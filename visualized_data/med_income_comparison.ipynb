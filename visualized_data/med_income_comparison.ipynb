{
 "cells": [
  {
   "cell_type": "markdown",
   "id": "f01688b7",
   "metadata": {},
   "source": [
    "# Washington and Idaho Comparison"
   ]
  },
  {
   "cell_type": "code",
   "execution_count": 1,
   "id": "f85764f5",
   "metadata": {},
   "outputs": [],
   "source": [
    "import pandas as pd\n",
    "import numpy as np\n",
    "import plotly.express as px"
   ]
  },
  {
   "cell_type": "code",
   "execution_count": null,
   "id": "78b4ba1d",
   "metadata": {},
   "outputs": [],
   "source": [
    "pd.set_option('display.max_columns', None)\n",
    "pd.set_option('display.max_rows', None)\n",
    "\n",
    "# import data\n",
    "washington_df = pd.read_csv(\"../state_gdp/washington_gdp.csv\")\n",
    "idaho_df = pd.read_csv(\"../state_gdp/idaho_gdp.csv\")\n",
    "\n",
    "# dataframe for tables\n",
    "washington_df = pd.DataFrame(data=washington_df)\n",
    "idaho_df = pd.DataFrame(data=idaho_df)"
   ]
  }
 ],
 "metadata": {
  "kernelspec": {
   "display_name": "Python 3 (ipykernel)",
   "language": "python",
   "name": "python3"
  },
  "language_info": {
   "codemirror_mode": {
    "name": "ipython",
    "version": 3
   },
   "file_extension": ".py",
   "mimetype": "text/x-python",
   "name": "python",
   "nbconvert_exporter": "python",
   "pygments_lexer": "ipython3",
   "version": "3.7.13"
  }
 },
 "nbformat": 4,
 "nbformat_minor": 5
}
