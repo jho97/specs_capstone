{
 "cells": [
  {
   "cell_type": "markdown",
   "id": "c6e85e52",
   "metadata": {},
   "source": [
    "# GDP PER CAPITA\n",
    "\n",
    "#### https://apps.bea.gov/itable/iTable.cfm?ReqID=70&step=1&acrdn=1#panel-6\n",
    "\n",
    "### I was only able to find state gdp (current US dollars), this will be the work of dividing the GDP by the population of the state to get the value of GDP per capita"
   ]
  },
  {
   "cell_type": "code",
   "execution_count": null,
   "id": "4f93f0ff",
   "metadata": {},
   "outputs": [],
   "source": []
  }
 ],
 "metadata": {
  "kernelspec": {
   "display_name": "Python 3 (ipykernel)",
   "language": "python",
   "name": "python3"
  },
  "language_info": {
   "codemirror_mode": {
    "name": "ipython",
    "version": 3
   },
   "file_extension": ".py",
   "mimetype": "text/x-python",
   "name": "python",
   "nbconvert_exporter": "python",
   "pygments_lexer": "ipython3",
   "version": "3.7.13"
  }
 },
 "nbformat": 4,
 "nbformat_minor": 5
}
