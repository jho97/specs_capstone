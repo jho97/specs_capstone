{
 "cells": [
  {
   "cell_type": "markdown",
   "id": "dcb1eece",
   "metadata": {},
   "source": [
    "# GDP PER CAPITA\n",
    "\n",
    "#### https://apps.bea.gov/itable/iTable.cfm?ReqID=70&step=1&acrdn=1#panel-6\n",
    "\n",
    "### I was only able to find state gdp (current US dollars), this will be the work of dividing the GDP by the population of the state to get the value of GDP per capita"
   ]
  },
  {
   "cell_type": "code",
   "execution_count": 1,
   "id": "04124dae",
   "metadata": {},
   "outputs": [],
   "source": [
    "import pandas as pd\n",
    "import numpy as np \n",
    "import plotly.express as px"
   ]
  },
  {
   "cell_type": "code",
   "execution_count": 2,
   "id": "f7d91964",
   "metadata": {},
   "outputs": [],
   "source": [
    "pd.set_option('display.max_columns', None)\n",
    "pd.set_option('display.max_rows', None)\n",
    "co_df = pd.read_csv(\"../state_gdp/co_gdp.csv\")\n",
    "# co_df"
   ]
  },
  {
   "cell_type": "code",
   "execution_count": 3,
   "id": "46ed94de",
   "metadata": {
    "scrolled": true
   },
   "outputs": [],
   "source": [
    "co_df.drop(['GeoName'], axis=1, inplace=True)\n",
    "co_df = co_df.T\n",
    "# co_df"
   ]
  },
  {
   "cell_type": "code",
   "execution_count": 4,
   "id": "5afbd5b3",
   "metadata": {
    "scrolled": true
   },
   "outputs": [],
   "source": [
    "co_df.rename(columns = {0 : \"gdp (current US dollars, millions)\"}, inplace=True)"
   ]
  },
  {
   "cell_type": "code",
   "execution_count": 5,
   "id": "b09f286a",
   "metadata": {
    "scrolled": true
   },
   "outputs": [],
   "source": [
    "co_df.reset_index(inplace=True)\n",
    "# co_df.head()"
   ]
  },
  {
   "cell_type": "code",
   "execution_count": 6,
   "id": "32063cfb",
   "metadata": {
    "scrolled": true
   },
   "outputs": [],
   "source": [
    "co_df.rename(columns={\"index\": \"quarters\"}, inplace=True)"
   ]
  },
  {
   "cell_type": "code",
   "execution_count": 7,
   "id": "2f13b301",
   "metadata": {
    "scrolled": true
   },
   "outputs": [],
   "source": [
    "gdp_values = co_df[\"gdp (current US dollars, millions)\"].tolist()"
   ]
  },
  {
   "cell_type": "markdown",
   "id": "3eeaae7d",
   "metadata": {},
   "source": [
    "## Create a function that will add the quarters together and then put them into a list "
   ]
  },
  {
   "cell_type": "code",
   "execution_count": 8,
   "id": "12e28850",
   "metadata": {},
   "outputs": [],
   "source": [
    "def get_total():\n",
    "    years_totals = []\n",
    "    quarter_1 = 0\n",
    "    quarter_2 = 1\n",
    "    quarter_3 = 2\n",
    "    quarter_4 =3\n",
    "    count = 1\n",
    "    while count <= 8:  \n",
    "        total = gdp_values[quarter_1] + gdp_values[quarter_2] + gdp_values[quarter_3] + gdp_values[quarter_4]\n",
    "        years_totals.append(total)\n",
    "        \n",
    "        quarter_1 += 4\n",
    "        quarter_2 += 4\n",
    "        quarter_3 += 4\n",
    "        quarter_4 += 4\n",
    "        count += 1\n",
    "    return years_totals"
   ]
  },
  {
   "cell_type": "code",
   "execution_count": 9,
   "id": "55a7f046",
   "metadata": {
    "scrolled": true
   },
   "outputs": [],
   "source": [
    "totals = get_total()\n",
    "# totals"
   ]
  },
  {
   "cell_type": "code",
   "execution_count": 10,
   "id": "49027365",
   "metadata": {
    "scrolled": true
   },
   "outputs": [],
   "source": [
    "data = {\"year\": [2014, 2015, 2016, 2017, 2018, 2019, 2020, 2021],\n",
    "       \"gdp\": totals}\n",
    "co_gdp_year = pd.DataFrame(data)\n",
    "# co_gdp_year"
   ]
  },
  {
   "cell_type": "markdown",
   "id": "139e17c3",
   "metadata": {},
   "source": [
    " ## converting the from millions to the actual number "
   ]
  },
  {
   "cell_type": "code",
   "execution_count": 11,
   "id": "bf54be65",
   "metadata": {},
   "outputs": [],
   "source": [
    "gdp = co_gdp_year[\"gdp\"].tolist()"
   ]
  },
  {
   "cell_type": "code",
   "execution_count": 12,
   "id": "a6c17530",
   "metadata": {},
   "outputs": [],
   "source": [
    "def actual_total():\n",
    "    gdp_total = []\n",
    "    value = 0\n",
    "    count = 1 \n",
    "    while count <= 8:\n",
    "        total = gdp[value]*1000000\n",
    "        gdp_total.append(total)\n",
    "        value += 1\n",
    "        count += 1\n",
    "    return gdp_total"
   ]
  },
  {
   "cell_type": "code",
   "execution_count": 13,
   "id": "91f1eeeb",
   "metadata": {},
   "outputs": [],
   "source": [
    "act_gdp = actual_total()"
   ]
  },
  {
   "cell_type": "code",
   "execution_count": 14,
   "id": "e20366cd",
   "metadata": {},
   "outputs": [],
   "source": [
    "data = {\"year\": [2014, 2015, 2016, 2017, 2018, 2019, 2020, 2021],\n",
    "       \"gdp\": act_gdp}\n",
    "co_gdp_year = pd.DataFrame(data)\n",
    "# co_gdp_year"
   ]
  },
  {
   "cell_type": "markdown",
   "id": "6e0e8d63",
   "metadata": {},
   "source": [
    "## import population data"
   ]
  },
  {
   "cell_type": "code",
   "execution_count": 15,
   "id": "2d12d457",
   "metadata": {},
   "outputs": [],
   "source": [
    "pop_df = pd.read_csv(\"../state_pop/colorado_pop_cleaned.csv\")\n",
    "# pop_df"
   ]
  },
  {
   "cell_type": "code",
   "execution_count": 16,
   "id": "5d3ec680",
   "metadata": {},
   "outputs": [],
   "source": [
    "pop_df = pop_df.iloc[114:]\n",
    "# pop_df.head()"
   ]
  },
  {
   "cell_type": "markdown",
   "id": "e071344a",
   "metadata": {},
   "source": [
    "## covert the population to the out of the thousands "
   ]
  },
  {
   "cell_type": "code",
   "execution_count": 17,
   "id": "5afdc0e9",
   "metadata": {},
   "outputs": [],
   "source": [
    "colorado_pop = pop_df[\"colorado_pop\"].tolist()"
   ]
  },
  {
   "cell_type": "code",
   "execution_count": 18,
   "id": "93bc871f",
   "metadata": {},
   "outputs": [],
   "source": [
    "def actual_pop():\n",
    "    pop_total = []\n",
    "    value = 0\n",
    "    count = 1 \n",
    "    while count <= 8:\n",
    "        total = colorado_pop[value]*1000\n",
    "        pop_total.append(total)\n",
    "        value += 1\n",
    "        count += 1\n",
    "    return pop_total"
   ]
  },
  {
   "cell_type": "code",
   "execution_count": 19,
   "id": "9e277d25",
   "metadata": {},
   "outputs": [],
   "source": [
    "act_pop = actual_pop()"
   ]
  },
  {
   "cell_type": "code",
   "execution_count": 20,
   "id": "a94e09c9",
   "metadata": {
    "scrolled": true
   },
   "outputs": [],
   "source": [
    "data = {\"year\": [2014, 2015, 2016, 2017, 2018, 2019, 2020, 2021],\n",
    "       \"population\": act_pop}\n",
    "co_pop_year = pd.DataFrame(data)\n",
    "# co_pop_year"
   ]
  },
  {
   "cell_type": "markdown",
   "id": "cf920c46",
   "metadata": {},
   "source": [
    "## Merge both DS"
   ]
  },
  {
   "cell_type": "code",
   "execution_count": 21,
   "id": "1daf31a6",
   "metadata": {},
   "outputs": [
    {
     "data": {
      "text/html": [
       "<div>\n",
       "<style scoped>\n",
       "    .dataframe tbody tr th:only-of-type {\n",
       "        vertical-align: middle;\n",
       "    }\n",
       "\n",
       "    .dataframe tbody tr th {\n",
       "        vertical-align: top;\n",
       "    }\n",
       "\n",
       "    .dataframe thead th {\n",
       "        text-align: right;\n",
       "    }\n",
       "</style>\n",
       "<table border=\"1\" class=\"dataframe\">\n",
       "  <thead>\n",
       "    <tr style=\"text-align: right;\">\n",
       "      <th></th>\n",
       "      <th>year</th>\n",
       "      <th>gdp</th>\n",
       "      <th>population</th>\n",
       "    </tr>\n",
       "  </thead>\n",
       "  <tbody>\n",
       "    <tr>\n",
       "      <th>0</th>\n",
       "      <td>2014</td>\n",
       "      <td>1.238170e+12</td>\n",
       "      <td>5352637.0</td>\n",
       "    </tr>\n",
       "    <tr>\n",
       "      <th>1</th>\n",
       "      <td>2015</td>\n",
       "      <td>1.282884e+12</td>\n",
       "      <td>5454328.0</td>\n",
       "    </tr>\n",
       "    <tr>\n",
       "      <th>2</th>\n",
       "      <td>2016</td>\n",
       "      <td>1.319647e+12</td>\n",
       "      <td>5543844.0</td>\n",
       "    </tr>\n",
       "    <tr>\n",
       "      <th>3</th>\n",
       "      <td>2017</td>\n",
       "      <td>1.395592e+12</td>\n",
       "      <td>5617421.0</td>\n",
       "    </tr>\n",
       "    <tr>\n",
       "      <th>4</th>\n",
       "      <td>2018</td>\n",
       "      <td>1.485698e+12</td>\n",
       "      <td>5697155.0</td>\n",
       "    </tr>\n",
       "    <tr>\n",
       "      <th>5</th>\n",
       "      <td>2019</td>\n",
       "      <td>1.568872e+12</td>\n",
       "      <td>5758486.0</td>\n",
       "    </tr>\n",
       "    <tr>\n",
       "      <th>6</th>\n",
       "      <td>2020</td>\n",
       "      <td>1.530339e+12</td>\n",
       "      <td>5784308.0</td>\n",
       "    </tr>\n",
       "    <tr>\n",
       "      <th>7</th>\n",
       "      <td>2021</td>\n",
       "      <td>1.687766e+12</td>\n",
       "      <td>5812069.0</td>\n",
       "    </tr>\n",
       "  </tbody>\n",
       "</table>\n",
       "</div>"
      ],
      "text/plain": [
       "   year           gdp  population\n",
       "0  2014  1.238170e+12   5352637.0\n",
       "1  2015  1.282884e+12   5454328.0\n",
       "2  2016  1.319647e+12   5543844.0\n",
       "3  2017  1.395592e+12   5617421.0\n",
       "4  2018  1.485698e+12   5697155.0\n",
       "5  2019  1.568872e+12   5758486.0\n",
       "6  2020  1.530339e+12   5784308.0\n",
       "7  2021  1.687766e+12   5812069.0"
      ]
     },
     "execution_count": 21,
     "metadata": {},
     "output_type": "execute_result"
    }
   ],
   "source": [
    "# need the population without the year column \n",
    "merged_df = pd.merge(co_gdp_year, co_pop_year, how=\"outer\", on=[\"year\"])\n",
    "merged_df"
   ]
  },
  {
   "cell_type": "markdown",
   "id": "35f1aed5",
   "metadata": {},
   "source": [
    "## Finding the GDP per captia of Colorado"
   ]
  },
  {
   "cell_type": "code",
   "execution_count": 22,
   "id": "bc742df0",
   "metadata": {},
   "outputs": [],
   "source": [
    "# make lists from columns for population and gdp\n",
    "\n",
    "population_list = merged_df.population.to_list()\n",
    "\n",
    "gdp_list = merged_df.gdp.to_list()\n",
    "\n",
    "per_capita_list = []\n",
    "\n",
    "#function to divide gdp by population\n",
    "\n",
    "def per_capita():\n",
    "\n",
    "    for population, gdp in zip(population_list, gdp_list):\n",
    "\n",
    "        per_capita_list.append((gdp/population))\n",
    "        \n",
    "    return per_capita_list"
   ]
  },
  {
   "cell_type": "markdown",
   "id": "0298be5e",
   "metadata": {},
   "source": [
    "## insert per capita list as new column"
   ]
  },
  {
   "cell_type": "code",
   "execution_count": 23,
   "id": "1116b45c",
   "metadata": {},
   "outputs": [],
   "source": [
    "per_capita_list = per_capita()"
   ]
  },
  {
   "cell_type": "code",
   "execution_count": 24,
   "id": "c8a2c5fd",
   "metadata": {},
   "outputs": [],
   "source": [
    "capita_data = {\"gdp_per_capita\": per_capita_list}\n",
    "capita_column = pd.DataFrame(capita_data)"
   ]
  },
  {
   "cell_type": "code",
   "execution_count": 25,
   "id": "0f671629",
   "metadata": {},
   "outputs": [],
   "source": [
    "merged_df.insert(3, \"gdp_per_capita\", capita_column, True)"
   ]
  },
  {
   "cell_type": "code",
   "execution_count": 26,
   "id": "3d809af0",
   "metadata": {},
   "outputs": [],
   "source": [
    "merged_df = pd.DataFrame(merged_df)"
   ]
  },
  {
   "cell_type": "markdown",
   "id": "6fe113a0",
   "metadata": {},
   "source": [
    "# Adding marijuana tax "
   ]
  },
  {
   "cell_type": "code",
   "execution_count": 27,
   "id": "a62f9265",
   "metadata": {},
   "outputs": [],
   "source": [
    "co_mj_tax = pd.read_csv(\"../marijuana_tax/colorado_marijuana_cleaned.csv\")\n",
    "co_mj_tax = pd.DataFrame(co_mj_tax)\n",
    "# co_mj_tax.dropna()"
   ]
  },
  {
   "cell_type": "code",
   "execution_count": 28,
   "id": "8955980d",
   "metadata": {},
   "outputs": [],
   "source": [
    "co_mj_tax = co_mj_tax.loc[{12, 25, 38, 51, 64, 77, 90, 103}]\n",
    "# co_mj_tax"
   ]
  },
  {
   "cell_type": "code",
   "execution_count": 29,
   "id": "0be64461",
   "metadata": {},
   "outputs": [],
   "source": [
    "co_mj_tax = co_mj_tax.sort_index()\n",
    "# co_mj_tax"
   ]
  },
  {
   "cell_type": "code",
   "execution_count": 30,
   "id": "e7d15ebb",
   "metadata": {
    "scrolled": true
   },
   "outputs": [],
   "source": [
    "co_mj_tax = pd.DataFrame(co_mj_tax)\n",
    "co_mj_tax = co_mj_tax.reset_index()\n",
    "# co_mj_tax"
   ]
  },
  {
   "cell_type": "markdown",
   "id": "750b778a",
   "metadata": {},
   "source": [
    "## Merging the total taxes to the merged_df "
   ]
  },
  {
   "cell_type": "code",
   "execution_count": 31,
   "id": "d84153ad",
   "metadata": {},
   "outputs": [],
   "source": [
    "mj_tax_revenue = co_mj_tax[\"total_taxes_and_fees\"]"
   ]
  },
  {
   "cell_type": "code",
   "execution_count": 32,
   "id": "dbfc3569",
   "metadata": {},
   "outputs": [
    {
     "data": {
      "text/html": [
       "<div>\n",
       "<style scoped>\n",
       "    .dataframe tbody tr th:only-of-type {\n",
       "        vertical-align: middle;\n",
       "    }\n",
       "\n",
       "    .dataframe tbody tr th {\n",
       "        vertical-align: top;\n",
       "    }\n",
       "\n",
       "    .dataframe thead th {\n",
       "        text-align: right;\n",
       "    }\n",
       "</style>\n",
       "<table border=\"1\" class=\"dataframe\">\n",
       "  <thead>\n",
       "    <tr style=\"text-align: right;\">\n",
       "      <th></th>\n",
       "      <th>year</th>\n",
       "      <th>gdp</th>\n",
       "      <th>population</th>\n",
       "      <th>gdp_per_capita</th>\n",
       "      <th>total_taxes_and_fees</th>\n",
       "    </tr>\n",
       "  </thead>\n",
       "  <tbody>\n",
       "    <tr>\n",
       "      <th>0</th>\n",
       "      <td>2014</td>\n",
       "      <td>1.238170e+12</td>\n",
       "      <td>5352637.0</td>\n",
       "      <td>231319.684111</td>\n",
       "      <td>$67,594,323</td>\n",
       "    </tr>\n",
       "    <tr>\n",
       "      <th>1</th>\n",
       "      <td>2015</td>\n",
       "      <td>1.282884e+12</td>\n",
       "      <td>5454328.0</td>\n",
       "      <td>235204.813499</td>\n",
       "      <td>$130,411,173</td>\n",
       "    </tr>\n",
       "    <tr>\n",
       "      <th>2</th>\n",
       "      <td>2016</td>\n",
       "      <td>1.319647e+12</td>\n",
       "      <td>5543844.0</td>\n",
       "      <td>238038.263703</td>\n",
       "      <td>$193,604,810</td>\n",
       "    </tr>\n",
       "    <tr>\n",
       "      <th>3</th>\n",
       "      <td>2017</td>\n",
       "      <td>1.395592e+12</td>\n",
       "      <td>5617421.0</td>\n",
       "      <td>248440.040367</td>\n",
       "      <td>$247,368,473</td>\n",
       "    </tr>\n",
       "    <tr>\n",
       "      <th>4</th>\n",
       "      <td>2018</td>\n",
       "      <td>1.485698e+12</td>\n",
       "      <td>5697155.0</td>\n",
       "      <td>260779.002853</td>\n",
       "      <td>$266,529,637</td>\n",
       "    </tr>\n",
       "    <tr>\n",
       "      <th>5</th>\n",
       "      <td>2019</td>\n",
       "      <td>1.568872e+12</td>\n",
       "      <td>5758486.0</td>\n",
       "      <td>272445.205215</td>\n",
       "      <td>$302,458,426</td>\n",
       "    </tr>\n",
       "    <tr>\n",
       "      <th>6</th>\n",
       "      <td>2020</td>\n",
       "      <td>1.530339e+12</td>\n",
       "      <td>5784308.0</td>\n",
       "      <td>264567.274080</td>\n",
       "      <td>$387,480,110</td>\n",
       "    </tr>\n",
       "    <tr>\n",
       "      <th>7</th>\n",
       "      <td>2021</td>\n",
       "      <td>1.687766e+12</td>\n",
       "      <td>5812069.0</td>\n",
       "      <td>290389.842240</td>\n",
       "      <td>$423,486,053</td>\n",
       "    </tr>\n",
       "  </tbody>\n",
       "</table>\n",
       "</div>"
      ],
      "text/plain": [
       "   year           gdp  population  gdp_per_capita total_taxes_and_fees\n",
       "0  2014  1.238170e+12   5352637.0   231319.684111         $67,594,323 \n",
       "1  2015  1.282884e+12   5454328.0   235204.813499        $130,411,173 \n",
       "2  2016  1.319647e+12   5543844.0   238038.263703        $193,604,810 \n",
       "3  2017  1.395592e+12   5617421.0   248440.040367        $247,368,473 \n",
       "4  2018  1.485698e+12   5697155.0   260779.002853        $266,529,637 \n",
       "5  2019  1.568872e+12   5758486.0   272445.205215        $302,458,426 \n",
       "6  2020  1.530339e+12   5784308.0   264567.274080        $387,480,110 \n",
       "7  2021  1.687766e+12   5812069.0   290389.842240        $423,486,053 "
      ]
     },
     "execution_count": 32,
     "metadata": {},
     "output_type": "execute_result"
    }
   ],
   "source": [
    "merged_df = merged_df.join(mj_tax_revenue)\n",
    "merged_df"
   ]
  },
  {
   "cell_type": "code",
   "execution_count": 33,
   "id": "41e675ad",
   "metadata": {},
   "outputs": [],
   "source": [
    "co_plot_df = merged_df.drop(columns=[\"gdp\",\"population\"])"
   ]
  },
  {
   "cell_type": "code",
   "execution_count": 34,
   "id": "a1913b5c",
   "metadata": {},
   "outputs": [],
   "source": [
    "co_plot_df = co_plot_df.rename(columns = {\"total_taxes_and_fees\":\"mj_tax_revenue\"})"
   ]
  },
  {
   "cell_type": "code",
   "execution_count": 35,
   "id": "77d6697f",
   "metadata": {},
   "outputs": [
    {
     "data": {
      "text/html": [
       "<div>\n",
       "<style scoped>\n",
       "    .dataframe tbody tr th:only-of-type {\n",
       "        vertical-align: middle;\n",
       "    }\n",
       "\n",
       "    .dataframe tbody tr th {\n",
       "        vertical-align: top;\n",
       "    }\n",
       "\n",
       "    .dataframe thead th {\n",
       "        text-align: right;\n",
       "    }\n",
       "</style>\n",
       "<table border=\"1\" class=\"dataframe\">\n",
       "  <thead>\n",
       "    <tr style=\"text-align: right;\">\n",
       "      <th></th>\n",
       "      <th>year</th>\n",
       "      <th>gdp_per_capita</th>\n",
       "      <th>mj_tax_revenue</th>\n",
       "    </tr>\n",
       "  </thead>\n",
       "  <tbody>\n",
       "    <tr>\n",
       "      <th>0</th>\n",
       "      <td>2014</td>\n",
       "      <td>231319.684111</td>\n",
       "      <td>67594323</td>\n",
       "    </tr>\n",
       "    <tr>\n",
       "      <th>1</th>\n",
       "      <td>2015</td>\n",
       "      <td>235204.813499</td>\n",
       "      <td>130411173</td>\n",
       "    </tr>\n",
       "    <tr>\n",
       "      <th>2</th>\n",
       "      <td>2016</td>\n",
       "      <td>238038.263703</td>\n",
       "      <td>193604810</td>\n",
       "    </tr>\n",
       "    <tr>\n",
       "      <th>3</th>\n",
       "      <td>2017</td>\n",
       "      <td>248440.040367</td>\n",
       "      <td>247368473</td>\n",
       "    </tr>\n",
       "    <tr>\n",
       "      <th>4</th>\n",
       "      <td>2018</td>\n",
       "      <td>260779.002853</td>\n",
       "      <td>266529637</td>\n",
       "    </tr>\n",
       "  </tbody>\n",
       "</table>\n",
       "</div>"
      ],
      "text/plain": [
       "   year  gdp_per_capita mj_tax_revenue\n",
       "0  2014   231319.684111      67594323 \n",
       "1  2015   235204.813499     130411173 \n",
       "2  2016   238038.263703     193604810 \n",
       "3  2017   248440.040367     247368473 \n",
       "4  2018   260779.002853     266529637 "
      ]
     },
     "execution_count": 35,
     "metadata": {},
     "output_type": "execute_result"
    }
   ],
   "source": [
    "co_plot_df.replace({'\\$':'', '\\,':'', '\\(':'', '\\)':''}, regex = True, inplace= True)\n",
    "co_plot_df.head()"
   ]
  },
  {
   "cell_type": "code",
   "execution_count": 36,
   "id": "75d8f723",
   "metadata": {},
   "outputs": [],
   "source": [
    "co_plot_df['mj_tax_revenue'] = co_plot_df['mj_tax_revenue'].astype(str).astype(int)"
   ]
  },
  {
   "cell_type": "code",
   "execution_count": 37,
   "id": "2670b28b",
   "metadata": {},
   "outputs": [
    {
     "data": {
      "text/html": [
       "<div>\n",
       "<style scoped>\n",
       "    .dataframe tbody tr th:only-of-type {\n",
       "        vertical-align: middle;\n",
       "    }\n",
       "\n",
       "    .dataframe tbody tr th {\n",
       "        vertical-align: top;\n",
       "    }\n",
       "\n",
       "    .dataframe thead th {\n",
       "        text-align: right;\n",
       "    }\n",
       "</style>\n",
       "<table border=\"1\" class=\"dataframe\">\n",
       "  <thead>\n",
       "    <tr style=\"text-align: right;\">\n",
       "      <th></th>\n",
       "      <th>year</th>\n",
       "      <th>gdp_per_capita</th>\n",
       "      <th>mj_tax_revenue</th>\n",
       "    </tr>\n",
       "  </thead>\n",
       "  <tbody>\n",
       "    <tr>\n",
       "      <th>0</th>\n",
       "      <td>2014</td>\n",
       "      <td>231319.684111</td>\n",
       "      <td>67594323</td>\n",
       "    </tr>\n",
       "    <tr>\n",
       "      <th>1</th>\n",
       "      <td>2015</td>\n",
       "      <td>235204.813499</td>\n",
       "      <td>130411173</td>\n",
       "    </tr>\n",
       "    <tr>\n",
       "      <th>2</th>\n",
       "      <td>2016</td>\n",
       "      <td>238038.263703</td>\n",
       "      <td>193604810</td>\n",
       "    </tr>\n",
       "    <tr>\n",
       "      <th>3</th>\n",
       "      <td>2017</td>\n",
       "      <td>248440.040367</td>\n",
       "      <td>247368473</td>\n",
       "    </tr>\n",
       "    <tr>\n",
       "      <th>4</th>\n",
       "      <td>2018</td>\n",
       "      <td>260779.002853</td>\n",
       "      <td>266529637</td>\n",
       "    </tr>\n",
       "    <tr>\n",
       "      <th>5</th>\n",
       "      <td>2019</td>\n",
       "      <td>272445.205215</td>\n",
       "      <td>302458426</td>\n",
       "    </tr>\n",
       "    <tr>\n",
       "      <th>6</th>\n",
       "      <td>2020</td>\n",
       "      <td>264567.274080</td>\n",
       "      <td>387480110</td>\n",
       "    </tr>\n",
       "    <tr>\n",
       "      <th>7</th>\n",
       "      <td>2021</td>\n",
       "      <td>290389.842240</td>\n",
       "      <td>423486053</td>\n",
       "    </tr>\n",
       "  </tbody>\n",
       "</table>\n",
       "</div>"
      ],
      "text/plain": [
       "   year  gdp_per_capita  mj_tax_revenue\n",
       "0  2014   231319.684111        67594323\n",
       "1  2015   235204.813499       130411173\n",
       "2  2016   238038.263703       193604810\n",
       "3  2017   248440.040367       247368473\n",
       "4  2018   260779.002853       266529637\n",
       "5  2019   272445.205215       302458426\n",
       "6  2020   264567.274080       387480110\n",
       "7  2021   290389.842240       423486053"
      ]
     },
     "execution_count": 37,
     "metadata": {},
     "output_type": "execute_result"
    }
   ],
   "source": [
    "co_plot_df"
   ]
  },
  {
   "cell_type": "code",
   "execution_count": 38,
   "id": "cbe257ef",
   "metadata": {},
   "outputs": [
    {
     "data": {
      "text/plain": [
       "<AxesSubplot:xlabel='mj_tax_revenue', ylabel='gdp_per_capita'>"
      ]
     },
     "execution_count": 38,
     "metadata": {},
     "output_type": "execute_result"
    },
    {
     "data": {
      "image/png": "[encoded data removed]",
      "text/plain": [
       "<Figure size 432x288 with 1 Axes>"
      ]
     },
     "metadata": {
      "needs_background": "light"
     },
     "output_type": "display_data"
    }
   ],
   "source": [
    "co_plot_df.plot.scatter(y=\"gdp_per_capita\", x=\"mj_tax_revenue\") "
   ]
  }
 ],
 "metadata": {
  "kernelspec": {
   "display_name": "Python 3 (ipykernel)",
   "language": "python",
   "name": "python3"
  },
  "language_info": {
   "codemirror_mode": {
    "name": "ipython",
    "version": 3
   },
   "file_extension": ".py",
   "mimetype": "text/x-python",
   "name": "python",
   "nbconvert_exporter": "python",
   "pygments_lexer": "ipython3",
   "version": "3.7.13"
  }
 },
 "nbformat": 4,
 "nbformat_minor": 5
}
