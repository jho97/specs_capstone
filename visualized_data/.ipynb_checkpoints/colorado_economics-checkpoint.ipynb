{
 "cells": [
  {
   "cell_type": "markdown",
   "id": "bb42d5aa",
   "metadata": {},
   "source": [
    "# Colorado Economic Figures\n",
    "##### The data set i'm looking over is from the Federal Reserve Economic Data https://fred.stlouisfed.org and I found it to be reliable because the data was taken from the US Census."
   ]
  },
  {
   "cell_type": "code",
   "execution_count": 1,
   "id": "c44dec90",
   "metadata": {},
   "outputs": [],
   "source": [
    "import pandas as pd\n",
    "import numpy as np \n",
    "import plotly.express as px"
   ]
  },
  {
   "cell_type": "code",
   "execution_count": 2,
   "id": "7741553f",
   "metadata": {},
   "outputs": [],
   "source": [
    "pd.set_option('display.max_columns', None)\n",
    "pd.set_option('display.max_rows', None)\n",
    "df_gdp = pd.read_csv(\"../state_gdp/colorado_gdp_cleaned.csv\")\n",
    "df_household = pd.read_csv(\"../state_med_household_income/colorado_household_income_cleaned.csv\")\n",
    "df_pop = pd.read_csv(\"../state_pop/colorado_pop_cleaned.csv\")\n",
    "df_taxes = pd.read_csv(\"../state_tax_collection/colorado_taxes_cleaned.csv\")"
   ]
  },
  {
   "cell_type": "code",
   "execution_count": 8,
   "id": "8e6a15c3",
   "metadata": {
    "scrolled": true
   },
   "outputs": [
    {
     "data": {
      "text/html": [
       "<div>\n",
       "<style scoped>\n",
       "    .dataframe tbody tr th:only-of-type {\n",
       "        vertical-align: middle;\n",
       "    }\n",
       "\n",
       "    .dataframe tbody tr th {\n",
       "        vertical-align: top;\n",
       "    }\n",
       "\n",
       "    .dataframe thead th {\n",
       "        text-align: right;\n",
       "    }\n",
       "</style>\n",
       "<table border=\"1\" class=\"dataframe\">\n",
       "  <thead>\n",
       "    <tr style=\"text-align: right;\">\n",
       "      <th></th>\n",
       "      <th>year</th>\n",
       "      <th>dollars (millions)</th>\n",
       "    </tr>\n",
       "  </thead>\n",
       "  <tbody>\n",
       "    <tr>\n",
       "      <th>0</th>\n",
       "      <td>0.000000</td>\n",
       "      <td>0.000000</td>\n",
       "    </tr>\n",
       "    <tr>\n",
       "      <th>1</th>\n",
       "      <td>0.041667</td>\n",
       "      <td>0.047120</td>\n",
       "    </tr>\n",
       "    <tr>\n",
       "      <th>2</th>\n",
       "      <td>0.083333</td>\n",
       "      <td>0.094248</td>\n",
       "    </tr>\n",
       "    <tr>\n",
       "      <th>3</th>\n",
       "      <td>0.125000</td>\n",
       "      <td>0.151432</td>\n",
       "    </tr>\n",
       "    <tr>\n",
       "      <th>4</th>\n",
       "      <td>0.166667</td>\n",
       "      <td>0.174700</td>\n",
       "    </tr>\n",
       "    <tr>\n",
       "      <th>5</th>\n",
       "      <td>0.208333</td>\n",
       "      <td>0.186359</td>\n",
       "    </tr>\n",
       "    <tr>\n",
       "      <th>6</th>\n",
       "      <td>0.250000</td>\n",
       "      <td>0.207786</td>\n",
       "    </tr>\n",
       "    <tr>\n",
       "      <th>7</th>\n",
       "      <td>0.291667</td>\n",
       "      <td>0.235994</td>\n",
       "    </tr>\n",
       "    <tr>\n",
       "      <th>8</th>\n",
       "      <td>0.333333</td>\n",
       "      <td>0.294289</td>\n",
       "    </tr>\n",
       "    <tr>\n",
       "      <th>9</th>\n",
       "      <td>0.375000</td>\n",
       "      <td>0.335908</td>\n",
       "    </tr>\n",
       "    <tr>\n",
       "      <th>10</th>\n",
       "      <td>0.416667</td>\n",
       "      <td>0.391337</td>\n",
       "    </tr>\n",
       "    <tr>\n",
       "      <th>11</th>\n",
       "      <td>0.458333</td>\n",
       "      <td>0.427911</td>\n",
       "    </tr>\n",
       "    <tr>\n",
       "      <th>12</th>\n",
       "      <td>0.500000</td>\n",
       "      <td>0.401094</td>\n",
       "    </tr>\n",
       "    <tr>\n",
       "      <th>13</th>\n",
       "      <td>0.541667</td>\n",
       "      <td>0.425906</td>\n",
       "    </tr>\n",
       "    <tr>\n",
       "      <th>14</th>\n",
       "      <td>0.583333</td>\n",
       "      <td>0.458238</td>\n",
       "    </tr>\n",
       "    <tr>\n",
       "      <th>15</th>\n",
       "      <td>0.625000</td>\n",
       "      <td>0.490889</td>\n",
       "    </tr>\n",
       "    <tr>\n",
       "      <th>16</th>\n",
       "      <td>0.666667</td>\n",
       "      <td>0.544626</td>\n",
       "    </tr>\n",
       "    <tr>\n",
       "      <th>17</th>\n",
       "      <td>0.708333</td>\n",
       "      <td>0.605677</td>\n",
       "    </tr>\n",
       "    <tr>\n",
       "      <th>18</th>\n",
       "      <td>0.750000</td>\n",
       "      <td>0.644894</td>\n",
       "    </tr>\n",
       "    <tr>\n",
       "      <th>19</th>\n",
       "      <td>0.791667</td>\n",
       "      <td>0.677137</td>\n",
       "    </tr>\n",
       "    <tr>\n",
       "      <th>20</th>\n",
       "      <td>0.833333</td>\n",
       "      <td>0.743746</td>\n",
       "    </tr>\n",
       "    <tr>\n",
       "      <th>21</th>\n",
       "      <td>0.875000</td>\n",
       "      <td>0.822775</td>\n",
       "    </tr>\n",
       "    <tr>\n",
       "      <th>22</th>\n",
       "      <td>0.916667</td>\n",
       "      <td>0.895723</td>\n",
       "    </tr>\n",
       "    <tr>\n",
       "      <th>23</th>\n",
       "      <td>0.958333</td>\n",
       "      <td>0.861927</td>\n",
       "    </tr>\n",
       "    <tr>\n",
       "      <th>24</th>\n",
       "      <td>1.000000</td>\n",
       "      <td>1.000000</td>\n",
       "    </tr>\n",
       "  </tbody>\n",
       "</table>\n",
       "</div>"
      ],
      "text/plain": [
       "        year  dollars (millions)\n",
       "0   0.000000            0.000000\n",
       "1   0.041667            0.047120\n",
       "2   0.083333            0.094248\n",
       "3   0.125000            0.151432\n",
       "4   0.166667            0.174700\n",
       "5   0.208333            0.186359\n",
       "6   0.250000            0.207786\n",
       "7   0.291667            0.235994\n",
       "8   0.333333            0.294289\n",
       "9   0.375000            0.335908\n",
       "10  0.416667            0.391337\n",
       "11  0.458333            0.427911\n",
       "12  0.500000            0.401094\n",
       "13  0.541667            0.425906\n",
       "14  0.583333            0.458238\n",
       "15  0.625000            0.490889\n",
       "16  0.666667            0.544626\n",
       "17  0.708333            0.605677\n",
       "18  0.750000            0.644894\n",
       "19  0.791667            0.677137\n",
       "20  0.833333            0.743746\n",
       "21  0.875000            0.822775\n",
       "22  0.916667            0.895723\n",
       "23  0.958333            0.861927\n",
       "24  1.000000            1.000000"
      ]
     },
     "execution_count": 8,
     "metadata": {},
     "output_type": "execute_result"
    }
   ],
   "source": [
    "# colorado gdp\n",
    "df_gdp.head()\n",
    "#df_gdp.info()\n",
    "# normalized data\n",
    "from sklearn import preprocessing\n",
    "gdp_scaler = preprocessing.MinMaxScaler()\n",
    "gdp_names = df_gdp.columns\n",
    "gdp_d = gdp_scaler.fit_transform(df_gdp)\n",
    "gdp_scaled_df = pd.DataFrame(gdp_d, columns=gdp_names)\n",
    "gdp_scaled_df"
   ]
  },
  {
   "cell_type": "code",
   "execution_count": 4,
   "id": "dabcb554",
   "metadata": {
    "scrolled": true
   },
   "outputs": [
    {
     "name": "stdout",
     "output_type": "stream",
     "text": [
      "<class 'pandas.core.frame.DataFrame'>\n",
      "RangeIndex: 37 entries, 0 to 36\n",
      "Data columns (total 2 columns):\n",
      " #   Column   Non-Null Count  Dtype\n",
      "---  ------   --------------  -----\n",
      " 0   year     37 non-null     int64\n",
      " 1   dollars  37 non-null     int64\n",
      "dtypes: int64(2)\n",
      "memory usage: 720.0 bytes\n"
     ]
    },
    {
     "data": {
      "text/plain": [
       "'from sklearn import preprocessing\\nhousehold_scaler = preprocessing.MinMaxScaler()\\nhousehold_names = df_household.columns\\nhousehold_d = household_scaler.fit_transform(df_household)\\nhousehold_scaled_df = pd.DataFrame(household_d, columns=household_names)\\nhousehold_scaled_df '"
      ]
     },
     "execution_count": 4,
     "metadata": {},
     "output_type": "execute_result"
    }
   ],
   "source": [
    "# colorado median household income\n",
    "df_household.head()\n",
    "df_household.info()\n",
    "# normalized data\n",
    "'''from sklearn import preprocessing\n",
    "household_scaler = preprocessing.MinMaxScaler()\n",
    "household_names = df_household.columns\n",
    "household_d = household_scaler.fit_transform(df_household)\n",
    "household_scaled_df = pd.DataFrame(household_d, columns=household_names)\n",
    "household_scaled_df '''"
   ]
  },
  {
   "cell_type": "code",
   "execution_count": 5,
   "id": "9fa4da9d",
   "metadata": {
    "scrolled": true
   },
   "outputs": [
    {
     "name": "stdout",
     "output_type": "stream",
     "text": [
      "<class 'pandas.core.frame.DataFrame'>\n",
      "RangeIndex: 122 entries, 0 to 121\n",
      "Data columns (total 2 columns):\n",
      " #   Column        Non-Null Count  Dtype  \n",
      "---  ------        --------------  -----  \n",
      " 0   year          122 non-null    int64  \n",
      " 1   colorado_pop  122 non-null    float64\n",
      "dtypes: float64(1), int64(1)\n",
      "memory usage: 2.0 KB\n"
     ]
    },
    {
     "data": {
      "text/plain": [
       "'from sklearn import preprocessing\\npop_scaler = preprocessing.MinMaxScaler()\\npop_names = df_pop.columns\\npop_d = pop_scaler.fit_transform(df_pop)\\npop_scaled_df = pd.DataFrame(pop_d, columns=pop_names)\\npop_scaled_df '"
      ]
     },
     "execution_count": 5,
     "metadata": {},
     "output_type": "execute_result"
    }
   ],
   "source": [
    "# colorado population\n",
    "df_pop.head()\n",
    "df_pop.info()\n",
    "\n",
    "'''from sklearn import preprocessing\n",
    "pop_scaler = preprocessing.MinMaxScaler()\n",
    "pop_names = df_pop.columns\n",
    "pop_d = pop_scaler.fit_transform(df_pop)\n",
    "pop_scaled_df = pd.DataFrame(pop_d, columns=pop_names)\n",
    "pop_scaled_df '''"
   ]
  },
  {
   "cell_type": "code",
   "execution_count": 6,
   "id": "4dfd49d5",
   "metadata": {},
   "outputs": [
    {
     "name": "stdout",
     "output_type": "stream",
     "text": [
      "<class 'pandas.core.frame.DataFrame'>\n",
      "RangeIndex: 72 entries, 0 to 71\n",
      "Data columns (total 2 columns):\n",
      " #   Column   Non-Null Count  Dtype\n",
      "---  ------   --------------  -----\n",
      " 0   year     72 non-null     int64\n",
      " 1   dollars  72 non-null     int64\n",
      "dtypes: int64(2)\n",
      "memory usage: 1.2 KB\n"
     ]
    },
    {
     "data": {
      "text/plain": [
       "'from sklearn import preprocessing\\nscaler = preprocessing.MinMaxScaler()\\nnames = df.columns\\nd = scaler.fit_transform(df)\\nscaled_df = pd.DataFrame(d, columns=names)\\nscaled_df '"
      ]
     },
     "execution_count": 6,
     "metadata": {},
     "output_type": "execute_result"
    }
   ],
   "source": [
    "# colorado taxed income\n",
    "df_taxes.head()\n",
    "df_taxes.info()\n",
    "'''from sklearn import preprocessing\n",
    "scaler = preprocessing.MinMaxScaler()\n",
    "names = df.columns\n",
    "d = scaler.fit_transform(df)\n",
    "scaled_df = pd.DataFrame(d, columns=names)\n",
    "scaled_df '''"
   ]
  },
  {
   "cell_type": "code",
   "execution_count": null,
   "id": "262f2d17",
   "metadata": {},
   "outputs": [],
   "source": []
  }
 ],
 "metadata": {
  "kernelspec": {
   "display_name": "Python 3 (ipykernel)",
   "language": "python",
   "name": "python3"
  },
  "language_info": {
   "codemirror_mode": {
    "name": "ipython",
    "version": 3
   },
   "file_extension": ".py",
   "mimetype": "text/x-python",
   "name": "python",
   "nbconvert_exporter": "python",
   "pygments_lexer": "ipython3",
   "version": "3.7.13"
  }
 },
 "nbformat": 4,
 "nbformat_minor": 5
}
