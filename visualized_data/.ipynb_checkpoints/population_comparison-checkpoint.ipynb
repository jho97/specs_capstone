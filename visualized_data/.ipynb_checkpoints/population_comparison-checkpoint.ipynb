{
 "cells": [
  {
   "cell_type": "markdown",
   "id": "7cbda79a",
   "metadata": {},
   "source": [
    "# Washington and Idaho Comparison"
   ]
  },
  {
   "cell_type": "code",
   "execution_count": 1,
   "id": "27377655",
   "metadata": {},
   "outputs": [],
   "source": [
    "import pandas as pd\n",
    "import numpy as np \n",
    "import plotly.express as px"
   ]
  },
  {
   "cell_type": "code",
   "execution_count": 2,
   "id": "ec71d87f",
   "metadata": {},
   "outputs": [],
   "source": [
    "pd.set_option('display.max_columns', None)\n",
    "pd.set_option('display.max_rows', None)\n",
    "\n",
    "# import data\n",
    "washington_df = pd.read_csv(\"../state_pop/washington_population_cleaned.csv\")\n",
    "idaho_df = pd.read_csv(\"../state_pop/idaho_population_cleaned.csv\")\n",
    "\n",
    "# dataframe for tables\n",
    "washington_df = pd.DataFrame(data=washington_df)\n",
    "idaho_df = pd.DataFrame(data=idaho_df)"
   ]
  },
  {
   "cell_type": "code",
   "execution_count": 3,
   "id": "bda03105",
   "metadata": {
    "scrolled": true
   },
   "outputs": [],
   "source": [
    "washington_df\n",
    "washington_df = washington_df.dropna() # There were unwanted values at the bottom\n",
    "# washington_df"
   ]
  },
  {
   "cell_type": "code",
   "execution_count": 4,
   "id": "f6d91e74",
   "metadata": {},
   "outputs": [
    {
     "data": {
      "text/html": [
       "<div>\n",
       "<style scoped>\n",
       "    .dataframe tbody tr th:only-of-type {\n",
       "        vertical-align: middle;\n",
       "    }\n",
       "\n",
       "    .dataframe tbody tr th {\n",
       "        vertical-align: top;\n",
       "    }\n",
       "\n",
       "    .dataframe thead th {\n",
       "        text-align: right;\n",
       "    }\n",
       "</style>\n",
       "<table border=\"1\" class=\"dataframe\">\n",
       "  <thead>\n",
       "    <tr style=\"text-align: right;\">\n",
       "      <th></th>\n",
       "      <th>year</th>\n",
       "      <th>washington_population</th>\n",
       "    </tr>\n",
       "  </thead>\n",
       "  <tbody>\n",
       "    <tr>\n",
       "      <th>count</th>\n",
       "      <td>122.000000</td>\n",
       "      <td>122.000000</td>\n",
       "    </tr>\n",
       "    <tr>\n",
       "      <th>mean</th>\n",
       "      <td>1960.500000</td>\n",
       "      <td>3378.369279</td>\n",
       "    </tr>\n",
       "    <tr>\n",
       "      <th>std</th>\n",
       "      <td>35.362409</td>\n",
       "      <td>2074.441930</td>\n",
       "    </tr>\n",
       "    <tr>\n",
       "      <th>min</th>\n",
       "      <td>1900.000000</td>\n",
       "      <td>523.000000</td>\n",
       "    </tr>\n",
       "    <tr>\n",
       "      <th>25%</th>\n",
       "      <td>1930.250000</td>\n",
       "      <td>1571.250000</td>\n",
       "    </tr>\n",
       "    <tr>\n",
       "      <th>50%</th>\n",
       "      <td>1960.500000</td>\n",
       "      <td>2868.500000</td>\n",
       "    </tr>\n",
       "    <tr>\n",
       "      <th>75%</th>\n",
       "      <td>1990.750000</td>\n",
       "      <td>4985.277250</td>\n",
       "    </tr>\n",
       "    <tr>\n",
       "      <th>max</th>\n",
       "      <td>2021.000000</td>\n",
       "      <td>7738.692000</td>\n",
       "    </tr>\n",
       "  </tbody>\n",
       "</table>\n",
       "</div>"
      ],
      "text/plain": [
       "              year  washington_population\n",
       "count   122.000000             122.000000\n",
       "mean   1960.500000            3378.369279\n",
       "std      35.362409            2074.441930\n",
       "min    1900.000000             523.000000\n",
       "25%    1930.250000            1571.250000\n",
       "50%    1960.500000            2868.500000\n",
       "75%    1990.750000            4985.277250\n",
       "max    2021.000000            7738.692000"
      ]
     },
     "execution_count": 4,
     "metadata": {},
     "output_type": "execute_result"
    }
   ],
   "source": [
    "washington_df.describe()"
   ]
  },
  {
   "cell_type": "code",
   "execution_count": 5,
   "id": "e86eb8ba",
   "metadata": {},
   "outputs": [],
   "source": [
    "# only want data from 2005 and beyond\n",
    "\n",
    "wa_2005 = washington_df.iloc[105:]"
   ]
  },
  {
   "cell_type": "code",
   "execution_count": 6,
   "id": "e16e02ba",
   "metadata": {},
   "outputs": [
    {
     "data": {
      "text/plain": [
       "<AxesSubplot:xlabel='year'>"
      ]
     },
     "execution_count": 6,
     "metadata": {},
     "output_type": "execute_result"
    },
    {
     "data": {
      "image/png": "[encoded data removed]",
      "text/plain": [
       "<Figure size 432x288 with 1 Axes>"
      ]
     },
     "metadata": {
      "needs_background": "light"
     },
     "output_type": "display_data"
    }
   ],
   "source": [
    "wa_2005.plot.line(x=\"year\", y=\"washington_population\")"
   ]
  },
  {
   "cell_type": "markdown",
   "id": "b5bb349e",
   "metadata": {},
   "source": [
    "# Idaho"
   ]
  },
  {
   "cell_type": "code",
   "execution_count": 7,
   "id": "9afd3257",
   "metadata": {
    "scrolled": true
   },
   "outputs": [
    {
     "data": {
      "text/html": [
       "<div>\n",
       "<style scoped>\n",
       "    .dataframe tbody tr th:only-of-type {\n",
       "        vertical-align: middle;\n",
       "    }\n",
       "\n",
       "    .dataframe tbody tr th {\n",
       "        vertical-align: top;\n",
       "    }\n",
       "\n",
       "    .dataframe thead th {\n",
       "        text-align: right;\n",
       "    }\n",
       "</style>\n",
       "<table border=\"1\" class=\"dataframe\">\n",
       "  <thead>\n",
       "    <tr style=\"text-align: right;\">\n",
       "      <th></th>\n",
       "      <th>year</th>\n",
       "      <th>idaho_population</th>\n",
       "    </tr>\n",
       "  </thead>\n",
       "  <tbody>\n",
       "    <tr>\n",
       "      <th>0</th>\n",
       "      <td>1900</td>\n",
       "      <td>163.0</td>\n",
       "    </tr>\n",
       "    <tr>\n",
       "      <th>1</th>\n",
       "      <td>1901</td>\n",
       "      <td>176.0</td>\n",
       "    </tr>\n",
       "    <tr>\n",
       "      <th>2</th>\n",
       "      <td>1902</td>\n",
       "      <td>199.0</td>\n",
       "    </tr>\n",
       "    <tr>\n",
       "      <th>3</th>\n",
       "      <td>1903</td>\n",
       "      <td>216.0</td>\n",
       "    </tr>\n",
       "    <tr>\n",
       "      <th>4</th>\n",
       "      <td>1904</td>\n",
       "      <td>229.0</td>\n",
       "    </tr>\n",
       "  </tbody>\n",
       "</table>\n",
       "</div>"
      ],
      "text/plain": [
       "   year  idaho_population\n",
       "0  1900             163.0\n",
       "1  1901             176.0\n",
       "2  1902             199.0\n",
       "3  1903             216.0\n",
       "4  1904             229.0"
      ]
     },
     "execution_count": 7,
     "metadata": {},
     "output_type": "execute_result"
    }
   ],
   "source": [
    "# idaho_df\n",
    "idaho_df.head()"
   ]
  },
  {
   "cell_type": "code",
   "execution_count": 8,
   "id": "a32a7454",
   "metadata": {},
   "outputs": [],
   "source": [
    "id_2005 = idaho_df.iloc[105:]"
   ]
  },
  {
   "cell_type": "code",
   "execution_count": 9,
   "id": "82d835ac",
   "metadata": {},
   "outputs": [
    {
     "data": {
      "text/plain": [
       "<AxesSubplot:xlabel='year'>"
      ]
     },
     "execution_count": 9,
     "metadata": {},
     "output_type": "execute_result"
    },
    {
     "data": {
      "image/png": "[encoded data removed]",
      "text/plain": [
       "<Figure size 432x288 with 1 Axes>"
      ]
     },
     "metadata": {
      "needs_background": "light"
     },
     "output_type": "display_data"
    }
   ],
   "source": [
    "id_2005.plot.line(x=\"year\", y=\"idaho_population\")"
   ]
  },
  {
   "cell_type": "markdown",
   "id": "592f1cfe",
   "metadata": {},
   "source": [
    "# Merging both DS\n",
    "\n",
    "#### https://pandas.pydata.org/docs/user_guide/merging.html (sql methods)\n",
    "#### https://dataschool.com/how-to-teach-people-sql/sql-join-types-explained-visually/"
   ]
  },
  {
   "cell_type": "code",
   "execution_count": 10,
   "id": "6d3368e5",
   "metadata": {
    "scrolled": false
   },
   "outputs": [
    {
     "data": {
      "text/html": [
       "<div>\n",
       "<style scoped>\n",
       "    .dataframe tbody tr th:only-of-type {\n",
       "        vertical-align: middle;\n",
       "    }\n",
       "\n",
       "    .dataframe tbody tr th {\n",
       "        vertical-align: top;\n",
       "    }\n",
       "\n",
       "    .dataframe thead th {\n",
       "        text-align: right;\n",
       "    }\n",
       "</style>\n",
       "<table border=\"1\" class=\"dataframe\">\n",
       "  <thead>\n",
       "    <tr style=\"text-align: right;\">\n",
       "      <th></th>\n",
       "      <th>year</th>\n",
       "      <th>washington_population</th>\n",
       "      <th>idaho_population</th>\n",
       "    </tr>\n",
       "  </thead>\n",
       "  <tbody>\n",
       "    <tr>\n",
       "      <th>0</th>\n",
       "      <td>2005.0</td>\n",
       "      <td>6257.305</td>\n",
       "      <td>1428.241</td>\n",
       "    </tr>\n",
       "    <tr>\n",
       "      <th>1</th>\n",
       "      <td>2006.0</td>\n",
       "      <td>6370.753</td>\n",
       "      <td>1468.669</td>\n",
       "    </tr>\n",
       "    <tr>\n",
       "      <th>2</th>\n",
       "      <td>2007.0</td>\n",
       "      <td>6461.587</td>\n",
       "      <td>1505.105</td>\n",
       "    </tr>\n",
       "    <tr>\n",
       "      <th>3</th>\n",
       "      <td>2008.0</td>\n",
       "      <td>6562.231</td>\n",
       "      <td>1534.320</td>\n",
       "    </tr>\n",
       "    <tr>\n",
       "      <th>4</th>\n",
       "      <td>2009.0</td>\n",
       "      <td>6667.426</td>\n",
       "      <td>1554.439</td>\n",
       "    </tr>\n",
       "  </tbody>\n",
       "</table>\n",
       "</div>"
      ],
      "text/plain": [
       "     year  washington_population  idaho_population\n",
       "0  2005.0               6257.305          1428.241\n",
       "1  2006.0               6370.753          1468.669\n",
       "2  2007.0               6461.587          1505.105\n",
       "3  2008.0               6562.231          1534.320\n",
       "4  2009.0               6667.426          1554.439"
      ]
     },
     "execution_count": 10,
     "metadata": {},
     "output_type": "execute_result"
    }
   ],
   "source": [
    "# need the idaho population without the year column \n",
    "merged_df = pd.merge(wa_2005, id_2005, how=\"outer\", on=[\"year\"])\n",
    "merged_df.head()"
   ]
  },
  {
   "cell_type": "markdown",
   "id": "88b9815c",
   "metadata": {},
   "source": [
    "### making the values into a list"
   ]
  },
  {
   "cell_type": "code",
   "execution_count": 11,
   "id": "91a95f4f",
   "metadata": {},
   "outputs": [],
   "source": [
    "washington_values = merged_df[\"washington_population\"].tolist()"
   ]
  },
  {
   "cell_type": "code",
   "execution_count": 12,
   "id": "6d880197",
   "metadata": {},
   "outputs": [],
   "source": [
    "idaho_values = merged_df[\"idaho_population\"].tolist()"
   ]
  },
  {
   "cell_type": "code",
   "execution_count": 13,
   "id": "4469cc02",
   "metadata": {},
   "outputs": [],
   "source": [
    "time_values = merged_df.index.tolist()"
   ]
  },
  {
   "cell_type": "code",
   "execution_count": 14,
   "id": "10d7ff53",
   "metadata": {},
   "outputs": [],
   "source": [
    "vert_line = time_values[9]"
   ]
  },
  {
   "cell_type": "markdown",
   "id": "b38e2540",
   "metadata": {},
   "source": [
    "### Little explanation\n",
    "### I used the vert_line variable to attach 2014, or the 9th index point. That will be my veritcal line to show the period before and after legalization\n",
    "#### https://www.tutorialspoint.com/how-do-you-plot-a-vertical-line-on-a-time-series-plot-in-pandas#:~:text=Using%20panda%20we%20can%20create,%2C%20linestyle%3D%22dashed%22. Used this to look at adding that vertical line"
   ]
  },
  {
   "cell_type": "code",
   "execution_count": 15,
   "id": "8a32bb92",
   "metadata": {},
   "outputs": [
    {
     "data": {
      "image/png": "[encoded data removed]",
      "text/plain": [
       "<Figure size 432x288 with 2 Axes>"
      ]
     },
     "metadata": {
      "needs_background": "light"
     },
     "output_type": "display_data"
    }
   ],
   "source": [
    "from matplotlib import pyplot as plt\n",
    "xPoints = time_values\n",
    "y1Points = washington_values\n",
    "y2Points = idaho_values\n",
    "\n",
    "plt.subplot(1, 2, 1) # row 1, col 2 index 1\n",
    "plt.plot(xPoints, y1Points)\n",
    "plt.axvline(x= vert_line)\n",
    "plt.title(\"Washington\")\n",
    "plt.xlabel('X-axis ')\n",
    "plt.ylabel('Y-axis ')\n",
    "\n",
    "plt.subplot(1, 2, 2) # index 2\n",
    "plt.plot(xPoints, y2Points)\n",
    "plt.axvline(x= vert_line)\n",
    "plt.title(\"Idaho\")\n",
    "plt.xlabel('X-axis ')\n",
    "plt.ylabel('Y-axis ')\n",
    "\n",
    "plt.show()"
   ]
  }
 ],
 "metadata": {
  "kernelspec": {
   "display_name": "Python 3 (ipykernel)",
   "language": "python",
   "name": "python3"
  },
  "language_info": {
   "codemirror_mode": {
    "name": "ipython",
    "version": 3
   },
   "file_extension": ".py",
   "mimetype": "text/x-python",
   "name": "python",
   "nbconvert_exporter": "python",
   "pygments_lexer": "ipython3",
   "version": "3.7.13"
  }
 },
 "nbformat": 4,
 "nbformat_minor": 5
}
