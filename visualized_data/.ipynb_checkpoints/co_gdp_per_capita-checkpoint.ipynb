{
 "cells": [
  {
   "cell_type": "markdown",
   "id": "dcb1eece",
   "metadata": {},
   "source": [
    "# GDP PER CAPITA\n",
    "\n",
    "#### https://apps.bea.gov/itable/iTable.cfm?ReqID=70&step=1&acrdn=1#panel-6\n",
    "\n",
    "### I was only able to find state gdp (current US dollars), this will be the work of dividing the GDP by the population of the state to get the value of GDP per capita"
   ]
  },
  {
   "cell_type": "code",
   "execution_count": 1,
   "id": "04124dae",
   "metadata": {},
   "outputs": [],
   "source": [
    "import pandas as pd\n",
    "import numpy as np \n",
    "import plotly.express as px"
   ]
  },
  {
   "cell_type": "code",
   "execution_count": 2,
   "id": "f7d91964",
   "metadata": {},
   "outputs": [],
   "source": [
    "pd.set_option('display.max_columns', None)\n",
    "pd.set_option('display.max_rows', None)\n",
    "co_df = pd.read_csv(\"../state_gdp/co_gdp.csv\")\n",
    "# co_df"
   ]
  },
  {
   "cell_type": "code",
   "execution_count": 3,
   "id": "46ed94de",
   "metadata": {
    "scrolled": true
   },
   "outputs": [],
   "source": [
    "co_df.drop(['GeoName'], axis=1, inplace=True)\n",
    "co_df = co_df.T\n",
    "# co_df"
   ]
  },
  {
   "cell_type": "code",
   "execution_count": 4,
   "id": "5afbd5b3",
   "metadata": {
    "scrolled": true
   },
   "outputs": [],
   "source": [
    "co_df.rename(columns = {0 : \"gdp (current US dollars, millions)\"}, inplace=True)"
   ]
  },
  {
   "cell_type": "code",
   "execution_count": 5,
   "id": "b09f286a",
   "metadata": {
    "scrolled": true
   },
   "outputs": [],
   "source": [
    "co_df.reset_index(inplace=True)\n",
    "# co_df.head()"
   ]
  },
  {
   "cell_type": "code",
   "execution_count": 6,
   "id": "32063cfb",
   "metadata": {
    "scrolled": true
   },
   "outputs": [],
   "source": [
    "co_df.rename(columns={\"index\": \"quarters\"}, inplace=True)"
   ]
  },
  {
   "cell_type": "code",
   "execution_count": 7,
   "id": "2f13b301",
   "metadata": {
    "scrolled": true
   },
   "outputs": [],
   "source": [
    "gdp_values = co_df[\"gdp (current US dollars, millions)\"].tolist()"
   ]
  },
  {
   "cell_type": "markdown",
   "id": "3eeaae7d",
   "metadata": {},
   "source": [
    "## Create a function that will add the quarters together and then put them into a list "
   ]
  },
  {
   "cell_type": "code",
   "execution_count": 8,
   "id": "12e28850",
   "metadata": {},
   "outputs": [],
   "source": [
    "def get_total():\n",
    "    years_totals = []\n",
    "    quarter_1 = 0\n",
    "    quarter_2 = 1\n",
    "    quarter_3 = 2\n",
    "    quarter_4 =3\n",
    "    count = 1\n",
    "    while count <= 8:  \n",
    "        total = gdp_values[quarter_1] + gdp_values[quarter_2] + gdp_values[quarter_3] + gdp_values[quarter_4]\n",
    "        years_totals.append(total)\n",
    "        \n",
    "        quarter_1 += 4\n",
    "        quarter_2 += 4\n",
    "        quarter_3 += 4\n",
    "        quarter_4 += 4\n",
    "        count += 1\n",
    "    return years_totals"
   ]
  },
  {
   "cell_type": "code",
   "execution_count": 9,
   "id": "55a7f046",
   "metadata": {
    "scrolled": true
   },
   "outputs": [],
   "source": [
    "totals = get_total()\n",
    "# totals"
   ]
  },
  {
   "cell_type": "code",
   "execution_count": 10,
   "id": "49027365",
   "metadata": {
    "scrolled": true
   },
   "outputs": [],
   "source": [
    "data = {\"year\": [2014, 2015, 2016, 2017, 2018, 2019, 2020, 2021],\n",
    "       \"gdp\": totals}\n",
    "co_gdp_year = pd.DataFrame(data)\n",
    "# co_gdp_year"
   ]
  },
  {
   "cell_type": "markdown",
   "id": "86b6434f",
   "metadata": {},
   "source": [
    " ## converting the from millions to the actual number "
   ]
  },
  {
   "cell_type": "code",
   "execution_count": 11,
   "id": "7fa7ef7b",
   "metadata": {},
   "outputs": [],
   "source": [
    "gdp = co_gdp_year[\"gdp\"].tolist()"
   ]
  },
  {
   "cell_type": "code",
   "execution_count": 12,
   "id": "0c7d2812",
   "metadata": {},
   "outputs": [],
   "source": [
    "def actual_total():\n",
    "    gdp_total = []\n",
    "    value = 0\n",
    "    count = 1 \n",
    "    while count <= 8:\n",
    "        total = gdp[value]*1000000\n",
    "        gdp_total.append(total)\n",
    "        value += 1\n",
    "        count += 1\n",
    "    return gdp_total"
   ]
  },
  {
   "cell_type": "code",
   "execution_count": 13,
   "id": "e2587801",
   "metadata": {},
   "outputs": [],
   "source": [
    "act_gdp = actual_total()"
   ]
  },
  {
   "cell_type": "code",
   "execution_count": 14,
   "id": "518f69b7",
   "metadata": {},
   "outputs": [],
   "source": [
    "data = {\"year\": [2014, 2015, 2016, 2017, 2018, 2019, 2020, 2021],\n",
    "       \"gdp\": act_gdp}\n",
    "co_gdp_year = pd.DataFrame(data)\n",
    "# co_gdp_year"
   ]
  },
  {
   "cell_type": "markdown",
   "id": "8245d79f",
   "metadata": {},
   "source": [
    "## import population data"
   ]
  },
  {
   "cell_type": "code",
   "execution_count": 15,
   "id": "0c686a9c",
   "metadata": {},
   "outputs": [],
   "source": [
    "pop_df = pd.read_csv(\"../state_pop/colorado_pop_cleaned.csv\")\n",
    "# pop_df"
   ]
  },
  {
   "cell_type": "code",
   "execution_count": 16,
   "id": "03d44726",
   "metadata": {},
   "outputs": [],
   "source": [
    "pop_df = pop_df.iloc[114:]\n",
    "# pop_df.head()"
   ]
  },
  {
   "cell_type": "markdown",
   "id": "daa4865d",
   "metadata": {},
   "source": [
    "## covert the population to the out of the thousands "
   ]
  },
  {
   "cell_type": "code",
   "execution_count": 17,
   "id": "77166639",
   "metadata": {},
   "outputs": [],
   "source": [
    "colorado_pop = pop_df[\"colorado_pop\"].tolist()"
   ]
  },
  {
   "cell_type": "code",
   "execution_count": 18,
   "id": "d9dd2dd6",
   "metadata": {},
   "outputs": [],
   "source": [
    "def actual_pop():\n",
    "    pop_total = []\n",
    "    value = 0\n",
    "    count = 1 \n",
    "    while count <= 8:\n",
    "        total = colorado_pop[value]*1000\n",
    "        pop_total.append(total)\n",
    "        value += 1\n",
    "        count += 1\n",
    "    return pop_total"
   ]
  },
  {
   "cell_type": "code",
   "execution_count": 19,
   "id": "2a2b91a2",
   "metadata": {},
   "outputs": [],
   "source": [
    "act_pop = actual_pop()"
   ]
  },
  {
   "cell_type": "code",
   "execution_count": 20,
   "id": "2d0d46a4",
   "metadata": {
    "scrolled": true
   },
   "outputs": [],
   "source": [
    "data = {\"year\": [2014, 2015, 2016, 2017, 2018, 2019, 2020, 2021],\n",
    "       \"population\": act_pop}\n",
    "co_pop_year = pd.DataFrame(data)\n",
    "# co_pop_year"
   ]
  },
  {
   "cell_type": "markdown",
   "id": "66e66998",
   "metadata": {},
   "source": [
    "## Merge both DS"
   ]
  },
  {
   "cell_type": "code",
   "execution_count": 21,
   "id": "03a90d19",
   "metadata": {},
   "outputs": [
    {
     "data": {
      "text/html": [
       "<div>\n",
       "<style scoped>\n",
       "    .dataframe tbody tr th:only-of-type {\n",
       "        vertical-align: middle;\n",
       "    }\n",
       "\n",
       "    .dataframe tbody tr th {\n",
       "        vertical-align: top;\n",
       "    }\n",
       "\n",
       "    .dataframe thead th {\n",
       "        text-align: right;\n",
       "    }\n",
       "</style>\n",
       "<table border=\"1\" class=\"dataframe\">\n",
       "  <thead>\n",
       "    <tr style=\"text-align: right;\">\n",
       "      <th></th>\n",
       "      <th>year</th>\n",
       "      <th>gdp</th>\n",
       "      <th>population</th>\n",
       "    </tr>\n",
       "  </thead>\n",
       "  <tbody>\n",
       "    <tr>\n",
       "      <th>0</th>\n",
       "      <td>2014</td>\n",
       "      <td>1.238170e+12</td>\n",
       "      <td>5352637.0</td>\n",
       "    </tr>\n",
       "    <tr>\n",
       "      <th>1</th>\n",
       "      <td>2015</td>\n",
       "      <td>1.282884e+12</td>\n",
       "      <td>5454328.0</td>\n",
       "    </tr>\n",
       "    <tr>\n",
       "      <th>2</th>\n",
       "      <td>2016</td>\n",
       "      <td>1.319647e+12</td>\n",
       "      <td>5543844.0</td>\n",
       "    </tr>\n",
       "    <tr>\n",
       "      <th>3</th>\n",
       "      <td>2017</td>\n",
       "      <td>1.395592e+12</td>\n",
       "      <td>5617421.0</td>\n",
       "    </tr>\n",
       "    <tr>\n",
       "      <th>4</th>\n",
       "      <td>2018</td>\n",
       "      <td>1.485698e+12</td>\n",
       "      <td>5697155.0</td>\n",
       "    </tr>\n",
       "    <tr>\n",
       "      <th>5</th>\n",
       "      <td>2019</td>\n",
       "      <td>1.568872e+12</td>\n",
       "      <td>5758486.0</td>\n",
       "    </tr>\n",
       "    <tr>\n",
       "      <th>6</th>\n",
       "      <td>2020</td>\n",
       "      <td>1.530339e+12</td>\n",
       "      <td>5784308.0</td>\n",
       "    </tr>\n",
       "    <tr>\n",
       "      <th>7</th>\n",
       "      <td>2021</td>\n",
       "      <td>1.687766e+12</td>\n",
       "      <td>5812069.0</td>\n",
       "    </tr>\n",
       "  </tbody>\n",
       "</table>\n",
       "</div>"
      ],
      "text/plain": [
       "   year           gdp  population\n",
       "0  2014  1.238170e+12   5352637.0\n",
       "1  2015  1.282884e+12   5454328.0\n",
       "2  2016  1.319647e+12   5543844.0\n",
       "3  2017  1.395592e+12   5617421.0\n",
       "4  2018  1.485698e+12   5697155.0\n",
       "5  2019  1.568872e+12   5758486.0\n",
       "6  2020  1.530339e+12   5784308.0\n",
       "7  2021  1.687766e+12   5812069.0"
      ]
     },
     "execution_count": 21,
     "metadata": {},
     "output_type": "execute_result"
    }
   ],
   "source": [
    "# need the population without the year column \n",
    "merged_df = pd.merge(co_gdp_year, co_pop_year, how=\"outer\", on=[\"year\"])\n",
    "merged_df"
   ]
  },
  {
   "cell_type": "markdown",
   "id": "98398498",
   "metadata": {},
   "source": [
    "## Finding the GDP per captia of Colorado"
   ]
  },
  {
   "cell_type": "code",
   "execution_count": 22,
   "id": "d92677ee",
   "metadata": {},
   "outputs": [],
   "source": [
    "# make lists from columns for population and gdp\n",
    "\n",
    "population_list = merged_df.population.to_list()\n",
    "\n",
    "gdp_list = merged_df.gdp.to_list()\n",
    "\n",
    "per_capita_list = []\n",
    "\n",
    "#function to divide gdp by population\n",
    "\n",
    "def per_capita():\n",
    "\n",
    "    for population, gdp in zip(population_list, gdp_list):\n",
    "\n",
    "        per_capita_list.append((gdp/population))\n",
    "        \n",
    "    return per_capita_list"
   ]
  },
  {
   "cell_type": "markdown",
   "id": "ae6910bf",
   "metadata": {},
   "source": [
    "## insert per capita list as new column"
   ]
  },
  {
   "cell_type": "code",
   "execution_count": 23,
   "id": "f2b1fd85",
   "metadata": {},
   "outputs": [],
   "source": [
    "per_capita_list = per_capita()"
   ]
  },
  {
   "cell_type": "code",
   "execution_count": 24,
   "id": "ee36552c",
   "metadata": {},
   "outputs": [],
   "source": [
    "capita_data = {\"gdp_per_capita\": per_capita_list}\n",
    "capita_column = pd.DataFrame(capita_data)"
   ]
  },
  {
   "cell_type": "code",
   "execution_count": 25,
   "id": "033f3f5c",
   "metadata": {},
   "outputs": [],
   "source": [
    "merged_df.insert(3, \"gdp_per_capita\", capita_column, True)"
   ]
  },
  {
   "cell_type": "code",
   "execution_count": 26,
   "id": "b6e7ed85",
   "metadata": {},
   "outputs": [],
   "source": [
    "merged_df = pd.DataFrame(merged_df)"
   ]
  },
  {
   "cell_type": "markdown",
   "id": "68cbfe38",
   "metadata": {},
   "source": [
    "# Adding marijuana tax "
   ]
  },
  {
   "cell_type": "code",
   "execution_count": 27,
   "id": "23ec683f",
   "metadata": {},
   "outputs": [],
   "source": [
    "co_mj_tax = pd.read_csv(\"../marijuana_tax/colorado_marijuana_cleaned.csv\")\n",
    "co_mj_tax = pd.DataFrame(co_mj_tax)\n",
    "# co_mj_tax.dropna()"
   ]
  },
  {
   "cell_type": "code",
   "execution_count": 28,
   "id": "1b34c58b",
   "metadata": {},
   "outputs": [],
   "source": [
    "co_mj_tax = co_mj_tax.loc[{12, 25, 38, 51, 64, 77, 90, 103}]\n",
    "# co_mj_tax"
   ]
  },
  {
   "cell_type": "code",
   "execution_count": 29,
   "id": "50123fc6",
   "metadata": {},
   "outputs": [],
   "source": [
    "co_mj_tax = co_mj_tax.sort_index()\n",
    "# co_mj_tax"
   ]
  },
  {
   "cell_type": "code",
   "execution_count": 30,
   "id": "fff90b1e",
   "metadata": {
    "scrolled": true
   },
   "outputs": [],
   "source": [
    "co_mj_tax = pd.DataFrame(co_mj_tax)\n",
    "co_mj_tax = co_mj_tax.reset_index()\n",
    "# co_mj_tax"
   ]
  },
  {
   "cell_type": "markdown",
   "id": "c5c4061d",
   "metadata": {},
   "source": [
    "## Merging the total taxes to the merged_df "
   ]
  },
  {
   "cell_type": "code",
   "execution_count": 31,
   "id": "2a8a4717",
   "metadata": {},
   "outputs": [],
   "source": [
    "mj_tax_revenue = co_mj_tax[\"total_taxes_and_fees\"]"
   ]
  },
  {
   "cell_type": "code",
   "execution_count": 32,
   "id": "4fcbdc72",
   "metadata": {},
   "outputs": [
    {
     "data": {
      "text/html": [
       "<div>\n",
       "<style scoped>\n",
       "    .dataframe tbody tr th:only-of-type {\n",
       "        vertical-align: middle;\n",
       "    }\n",
       "\n",
       "    .dataframe tbody tr th {\n",
       "        vertical-align: top;\n",
       "    }\n",
       "\n",
       "    .dataframe thead th {\n",
       "        text-align: right;\n",
       "    }\n",
       "</style>\n",
       "<table border=\"1\" class=\"dataframe\">\n",
       "  <thead>\n",
       "    <tr style=\"text-align: right;\">\n",
       "      <th></th>\n",
       "      <th>year</th>\n",
       "      <th>gdp</th>\n",
       "      <th>population</th>\n",
       "      <th>gdp_per_capita</th>\n",
       "      <th>total_taxes_and_fees</th>\n",
       "    </tr>\n",
       "  </thead>\n",
       "  <tbody>\n",
       "    <tr>\n",
       "      <th>0</th>\n",
       "      <td>2014</td>\n",
       "      <td>1.238170e+12</td>\n",
       "      <td>5352637.0</td>\n",
       "      <td>231319.684111</td>\n",
       "      <td>$67,594,323</td>\n",
       "    </tr>\n",
       "    <tr>\n",
       "      <th>1</th>\n",
       "      <td>2015</td>\n",
       "      <td>1.282884e+12</td>\n",
       "      <td>5454328.0</td>\n",
       "      <td>235204.813499</td>\n",
       "      <td>$130,411,173</td>\n",
       "    </tr>\n",
       "    <tr>\n",
       "      <th>2</th>\n",
       "      <td>2016</td>\n",
       "      <td>1.319647e+12</td>\n",
       "      <td>5543844.0</td>\n",
       "      <td>238038.263703</td>\n",
       "      <td>$193,604,810</td>\n",
       "    </tr>\n",
       "    <tr>\n",
       "      <th>3</th>\n",
       "      <td>2017</td>\n",
       "      <td>1.395592e+12</td>\n",
       "      <td>5617421.0</td>\n",
       "      <td>248440.040367</td>\n",
       "      <td>$247,368,473</td>\n",
       "    </tr>\n",
       "    <tr>\n",
       "      <th>4</th>\n",
       "      <td>2018</td>\n",
       "      <td>1.485698e+12</td>\n",
       "      <td>5697155.0</td>\n",
       "      <td>260779.002853</td>\n",
       "      <td>$266,529,637</td>\n",
       "    </tr>\n",
       "    <tr>\n",
       "      <th>5</th>\n",
       "      <td>2019</td>\n",
       "      <td>1.568872e+12</td>\n",
       "      <td>5758486.0</td>\n",
       "      <td>272445.205215</td>\n",
       "      <td>$302,458,426</td>\n",
       "    </tr>\n",
       "    <tr>\n",
       "      <th>6</th>\n",
       "      <td>2020</td>\n",
       "      <td>1.530339e+12</td>\n",
       "      <td>5784308.0</td>\n",
       "      <td>264567.274080</td>\n",
       "      <td>$387,480,110</td>\n",
       "    </tr>\n",
       "    <tr>\n",
       "      <th>7</th>\n",
       "      <td>2021</td>\n",
       "      <td>1.687766e+12</td>\n",
       "      <td>5812069.0</td>\n",
       "      <td>290389.842240</td>\n",
       "      <td>$423,486,053</td>\n",
       "    </tr>\n",
       "  </tbody>\n",
       "</table>\n",
       "</div>"
      ],
      "text/plain": [
       "   year           gdp  population  gdp_per_capita total_taxes_and_fees\n",
       "0  2014  1.238170e+12   5352637.0   231319.684111         $67,594,323 \n",
       "1  2015  1.282884e+12   5454328.0   235204.813499        $130,411,173 \n",
       "2  2016  1.319647e+12   5543844.0   238038.263703        $193,604,810 \n",
       "3  2017  1.395592e+12   5617421.0   248440.040367        $247,368,473 \n",
       "4  2018  1.485698e+12   5697155.0   260779.002853        $266,529,637 \n",
       "5  2019  1.568872e+12   5758486.0   272445.205215        $302,458,426 \n",
       "6  2020  1.530339e+12   5784308.0   264567.274080        $387,480,110 \n",
       "7  2021  1.687766e+12   5812069.0   290389.842240        $423,486,053 "
      ]
     },
     "execution_count": 32,
     "metadata": {},
     "output_type": "execute_result"
    }
   ],
   "source": [
    "merged_df = merged_df.join(mj_tax_revenue)\n",
    "merged_df"
   ]
  },
  {
   "cell_type": "code",
   "execution_count": 33,
   "id": "388d5950",
   "metadata": {},
   "outputs": [],
   "source": [
    "co_plot_df = merged_df.drop(columns=[\"gdp\",\"population\"])"
   ]
  },
  {
   "cell_type": "code",
   "execution_count": 34,
   "id": "c4947fb4",
   "metadata": {},
   "outputs": [],
   "source": [
    "co_plot_df = co_plot_df.rename(columns = {\"total_taxes_and_fees\":\"mj_tax_revenue\"})"
   ]
  },
  {
   "cell_type": "code",
   "execution_count": 35,
   "id": "e979b9de",
   "metadata": {},
   "outputs": [
    {
     "data": {
      "text/html": [
       "<div>\n",
       "<style scoped>\n",
       "    .dataframe tbody tr th:only-of-type {\n",
       "        vertical-align: middle;\n",
       "    }\n",
       "\n",
       "    .dataframe tbody tr th {\n",
       "        vertical-align: top;\n",
       "    }\n",
       "\n",
       "    .dataframe thead th {\n",
       "        text-align: right;\n",
       "    }\n",
       "</style>\n",
       "<table border=\"1\" class=\"dataframe\">\n",
       "  <thead>\n",
       "    <tr style=\"text-align: right;\">\n",
       "      <th></th>\n",
       "      <th>year</th>\n",
       "      <th>gdp_per_capita</th>\n",
       "      <th>mj_tax_revenue</th>\n",
       "    </tr>\n",
       "  </thead>\n",
       "  <tbody>\n",
       "    <tr>\n",
       "      <th>0</th>\n",
       "      <td>2014</td>\n",
       "      <td>231319.684111</td>\n",
       "      <td>67594323</td>\n",
       "    </tr>\n",
       "    <tr>\n",
       "      <th>1</th>\n",
       "      <td>2015</td>\n",
       "      <td>235204.813499</td>\n",
       "      <td>130411173</td>\n",
       "    </tr>\n",
       "    <tr>\n",
       "      <th>2</th>\n",
       "      <td>2016</td>\n",
       "      <td>238038.263703</td>\n",
       "      <td>193604810</td>\n",
       "    </tr>\n",
       "    <tr>\n",
       "      <th>3</th>\n",
       "      <td>2017</td>\n",
       "      <td>248440.040367</td>\n",
       "      <td>247368473</td>\n",
       "    </tr>\n",
       "    <tr>\n",
       "      <th>4</th>\n",
       "      <td>2018</td>\n",
       "      <td>260779.002853</td>\n",
       "      <td>266529637</td>\n",
       "    </tr>\n",
       "  </tbody>\n",
       "</table>\n",
       "</div>"
      ],
      "text/plain": [
       "   year  gdp_per_capita mj_tax_revenue\n",
       "0  2014   231319.684111      67594323 \n",
       "1  2015   235204.813499     130411173 \n",
       "2  2016   238038.263703     193604810 \n",
       "3  2017   248440.040367     247368473 \n",
       "4  2018   260779.002853     266529637 "
      ]
     },
     "execution_count": 35,
     "metadata": {},
     "output_type": "execute_result"
    }
   ],
   "source": [
    "co_plot_df.replace({'\\$':'', '\\,':'', '\\(':'', '\\)':''}, regex = True, inplace= True)\n",
    "co_plot_df.head()"
   ]
  },
  {
   "cell_type": "code",
   "execution_count": 36,
   "id": "54265d91",
   "metadata": {},
   "outputs": [],
   "source": [
    "co_plot_df['mj_tax_revenue'] = co_plot_df['mj_tax_revenue'].astype(str).astype(int)"
   ]
  },
  {
   "cell_type": "code",
   "execution_count": 37,
   "id": "a9c33574",
   "metadata": {},
   "outputs": [
    {
     "data": {
      "text/html": [
       "<div>\n",
       "<style scoped>\n",
       "    .dataframe tbody tr th:only-of-type {\n",
       "        vertical-align: middle;\n",
       "    }\n",
       "\n",
       "    .dataframe tbody tr th {\n",
       "        vertical-align: top;\n",
       "    }\n",
       "\n",
       "    .dataframe thead th {\n",
       "        text-align: right;\n",
       "    }\n",
       "</style>\n",
       "<table border=\"1\" class=\"dataframe\">\n",
       "  <thead>\n",
       "    <tr style=\"text-align: right;\">\n",
       "      <th></th>\n",
       "      <th>year</th>\n",
       "      <th>gdp_per_capita</th>\n",
       "      <th>mj_tax_revenue</th>\n",
       "    </tr>\n",
       "  </thead>\n",
       "  <tbody>\n",
       "    <tr>\n",
       "      <th>0</th>\n",
       "      <td>2014</td>\n",
       "      <td>231319.684111</td>\n",
       "      <td>67594323</td>\n",
       "    </tr>\n",
       "    <tr>\n",
       "      <th>1</th>\n",
       "      <td>2015</td>\n",
       "      <td>235204.813499</td>\n",
       "      <td>130411173</td>\n",
       "    </tr>\n",
       "    <tr>\n",
       "      <th>2</th>\n",
       "      <td>2016</td>\n",
       "      <td>238038.263703</td>\n",
       "      <td>193604810</td>\n",
       "    </tr>\n",
       "    <tr>\n",
       "      <th>3</th>\n",
       "      <td>2017</td>\n",
       "      <td>248440.040367</td>\n",
       "      <td>247368473</td>\n",
       "    </tr>\n",
       "    <tr>\n",
       "      <th>4</th>\n",
       "      <td>2018</td>\n",
       "      <td>260779.002853</td>\n",
       "      <td>266529637</td>\n",
       "    </tr>\n",
       "    <tr>\n",
       "      <th>5</th>\n",
       "      <td>2019</td>\n",
       "      <td>272445.205215</td>\n",
       "      <td>302458426</td>\n",
       "    </tr>\n",
       "    <tr>\n",
       "      <th>6</th>\n",
       "      <td>2020</td>\n",
       "      <td>264567.274080</td>\n",
       "      <td>387480110</td>\n",
       "    </tr>\n",
       "    <tr>\n",
       "      <th>7</th>\n",
       "      <td>2021</td>\n",
       "      <td>290389.842240</td>\n",
       "      <td>423486053</td>\n",
       "    </tr>\n",
       "  </tbody>\n",
       "</table>\n",
       "</div>"
      ],
      "text/plain": [
       "   year  gdp_per_capita  mj_tax_revenue\n",
       "0  2014   231319.684111        67594323\n",
       "1  2015   235204.813499       130411173\n",
       "2  2016   238038.263703       193604810\n",
       "3  2017   248440.040367       247368473\n",
       "4  2018   260779.002853       266529637\n",
       "5  2019   272445.205215       302458426\n",
       "6  2020   264567.274080       387480110\n",
       "7  2021   290389.842240       423486053"
      ]
     },
     "execution_count": 37,
     "metadata": {},
     "output_type": "execute_result"
    }
   ],
   "source": [
    "co_plot_df"
   ]
  },
  {
   "cell_type": "markdown",
   "id": "cf568a83",
   "metadata": {},
   "source": [
    "## Plotting data"
   ]
  },
  {
   "cell_type": "code",
   "execution_count": 38,
   "id": "96abd46d",
   "metadata": {},
   "outputs": [
    {
     "data": {
      "text/plain": [
       "<AxesSubplot:xlabel='mj_tax_revenue', ylabel='gdp_per_capita'>"
      ]
     },
     "execution_count": 38,
     "metadata": {},
     "output_type": "execute_result"
    },
    {
     "data": {
      "image/png": "[encoded data removed]",
      "text/plain": [
       "<Figure size 432x288 with 1 Axes>"
      ]
     },
     "metadata": {
      "needs_background": "light"
     },
     "output_type": "display_data"
    }
   ],
   "source": [
    "co_plot_df.plot.scatter(y=\"gdp_per_capita\", x=\"mj_tax_revenue\") "
   ]
  },
  {
   "cell_type": "markdown",
   "id": "8e54c736",
   "metadata": {},
   "source": [
    "## Checking correlation"
   ]
  },
  {
   "cell_type": "code",
   "execution_count": 40,
   "id": "1176c573",
   "metadata": {},
   "outputs": [],
   "source": [
    "import scipy.stats as stats"
   ]
  },
  {
   "cell_type": "code",
   "execution_count": 41,
   "id": "18f99df2",
   "metadata": {},
   "outputs": [
    {
     "data": {
      "text/html": [
       "<div>\n",
       "<style scoped>\n",
       "    .dataframe tbody tr th:only-of-type {\n",
       "        vertical-align: middle;\n",
       "    }\n",
       "\n",
       "    .dataframe tbody tr th {\n",
       "        vertical-align: top;\n",
       "    }\n",
       "\n",
       "    .dataframe thead th {\n",
       "        text-align: right;\n",
       "    }\n",
       "</style>\n",
       "<table border=\"1\" class=\"dataframe\">\n",
       "  <thead>\n",
       "    <tr style=\"text-align: right;\">\n",
       "      <th></th>\n",
       "      <th>year</th>\n",
       "      <th>gdp_per_capita</th>\n",
       "      <th>mj_tax_revenue</th>\n",
       "    </tr>\n",
       "  </thead>\n",
       "  <tbody>\n",
       "    <tr>\n",
       "      <th>year</th>\n",
       "      <td>1.000000</td>\n",
       "      <td>0.957638</td>\n",
       "      <td>0.992243</td>\n",
       "    </tr>\n",
       "    <tr>\n",
       "      <th>gdp_per_capita</th>\n",
       "      <td>0.957638</td>\n",
       "      <td>1.000000</td>\n",
       "      <td>0.923814</td>\n",
       "    </tr>\n",
       "    <tr>\n",
       "      <th>mj_tax_revenue</th>\n",
       "      <td>0.992243</td>\n",
       "      <td>0.923814</td>\n",
       "      <td>1.000000</td>\n",
       "    </tr>\n",
       "  </tbody>\n",
       "</table>\n",
       "</div>"
      ],
      "text/plain": [
       "                    year  gdp_per_capita  mj_tax_revenue\n",
       "year            1.000000        0.957638        0.992243\n",
       "gdp_per_capita  0.957638        1.000000        0.923814\n",
       "mj_tax_revenue  0.992243        0.923814        1.000000"
      ]
     },
     "execution_count": 41,
     "metadata": {},
     "output_type": "execute_result"
    }
   ],
   "source": [
    "co_plot_df.corr()"
   ]
  },
  {
   "cell_type": "markdown",
   "id": "f64003c3",
   "metadata": {},
   "source": [
    "#### 1. r: Pearson’s correlation coefficient\n",
    "#### 2. p-value: long-tailed p-value"
   ]
  },
  {
   "cell_type": "code",
   "execution_count": 42,
   "id": "6c6504af",
   "metadata": {},
   "outputs": [
    {
     "data": {
      "text/plain": [
       "(0.9238139463811241, 0.0010433132264456076)"
      ]
     },
     "execution_count": 42,
     "metadata": {},
     "output_type": "execute_result"
    }
   ],
   "source": [
    "stats.pearsonr(co_plot_df['gdp_per_capita'], co_plot_df['mj_tax_revenue'])"
   ]
  },
  {
   "cell_type": "markdown",
   "id": "ed7b5509",
   "metadata": {},
   "source": [
    "## looking at the differences"
   ]
  },
  {
   "cell_type": "code",
   "execution_count": 43,
   "id": "9c45107b",
   "metadata": {},
   "outputs": [],
   "source": [
    "diff_df = co_plot_df.diff()"
   ]
  },
  {
   "cell_type": "code",
   "execution_count": 44,
   "id": "79069cd0",
   "metadata": {},
   "outputs": [],
   "source": [
    "diff_df = diff_df.dropna()"
   ]
  },
  {
   "cell_type": "code",
   "execution_count": 45,
   "id": "8f4bafcc",
   "metadata": {},
   "outputs": [
    {
     "data": {
      "text/plain": [
       "<AxesSubplot:xlabel='mj_tax_revenue', ylabel='gdp_per_capita'>"
      ]
     },
     "execution_count": 45,
     "metadata": {},
     "output_type": "execute_result"
    },
    {
     "data": {
      "image/png": "[encoded data removed]",
      "text/plain": [
       "<Figure size 432x288 with 1 Axes>"
      ]
     },
     "metadata": {
      "needs_background": "light"
     },
     "output_type": "display_data"
    }
   ],
   "source": [
    "diff_df.plot.scatter(y=\"gdp_per_capita\", x=\"mj_tax_revenue\") "
   ]
  },
  {
   "cell_type": "code",
   "execution_count": 46,
   "id": "d7bee87e",
   "metadata": {},
   "outputs": [
    {
     "data": {
      "text/plain": [
       "(-0.8024164109757832, 0.029870491405940426)"
      ]
     },
     "execution_count": 46,
     "metadata": {},
     "output_type": "execute_result"
    }
   ],
   "source": [
    "stats.pearsonr(diff_df['gdp_per_capita'], diff_df['mj_tax_revenue'])"
   ]
  },
  {
   "cell_type": "markdown",
   "id": "61975114",
   "metadata": {},
   "source": [
    "## Linear Regression"
   ]
  },
  {
   "cell_type": "code",
   "execution_count": 48,
   "id": "f9c76aa1",
   "metadata": {},
   "outputs": [],
   "source": [
    "import statsmodels.formula.api as smf"
   ]
  },
  {
   "cell_type": "code",
   "execution_count": 51,
   "id": "ec0bb5b9",
   "metadata": {},
   "outputs": [
    {
     "name": "stderr",
     "output_type": "stream",
     "text": [
      "/Users/jonathanho/opt/anaconda3/envs/VirtEnv/lib/python3.7/site-packages/scipy/stats/stats.py:1542: UserWarning: kurtosistest only valid for n>=20 ... continuing anyway, n=8\n",
      "  \"anyway, n=%i\" % int(n))\n"
     ]
    },
    {
     "data": {
      "text/html": [
       "<table class=\"simpletable\">\n",
       "<caption>OLS Regression Results</caption>\n",
       "<tr>\n",
       "  <th>Dep. Variable:</th>     <td>gdp_per_capita</td>  <th>  R-squared:         </th> <td>   0.853</td>\n",
       "</tr>\n",
       "<tr>\n",
       "  <th>Model:</th>                   <td>OLS</td>       <th>  Adj. R-squared:    </th> <td>   0.829</td>\n",
       "</tr>\n",
       "<tr>\n",
       "  <th>Method:</th>             <td>Least Squares</td>  <th>  F-statistic:       </th> <td>   34.94</td>\n",
       "</tr>\n",
       "<tr>\n",
       "  <th>Date:</th>             <td>Mon, 04 Jul 2022</td> <th>  Prob (F-statistic):</th>  <td>0.00104</td>\n",
       "</tr>\n",
       "<tr>\n",
       "  <th>Time:</th>                 <td>23:19:32</td>     <th>  Log-Likelihood:    </th> <td> -82.593</td>\n",
       "</tr>\n",
       "<tr>\n",
       "  <th>No. Observations:</th>      <td>     8</td>      <th>  AIC:               </th> <td>   169.2</td>\n",
       "</tr>\n",
       "<tr>\n",
       "  <th>Df Residuals:</th>          <td>     6</td>      <th>  BIC:               </th> <td>   169.3</td>\n",
       "</tr>\n",
       "<tr>\n",
       "  <th>Df Model:</th>              <td>     1</td>      <th>                     </th>     <td> </td>   \n",
       "</tr>\n",
       "<tr>\n",
       "  <th>Covariance Type:</th>      <td>nonrobust</td>    <th>                     </th>     <td> </td>   \n",
       "</tr>\n",
       "</table>\n",
       "<table class=\"simpletable\">\n",
       "<tr>\n",
       "         <td></td>           <th>coef</th>     <th>std err</th>      <th>t</th>      <th>P>|t|</th>  <th>[0.025</th>    <th>0.975]</th>  \n",
       "</tr>\n",
       "<tr>\n",
       "  <th>Intercept</th>      <td> 2.155e+05</td> <td> 7345.107</td> <td>   29.345</td> <td> 0.000</td> <td> 1.98e+05</td> <td> 2.34e+05</td>\n",
       "</tr>\n",
       "<tr>\n",
       "  <th>mj_tax_revenue</th> <td>    0.0002</td> <td> 2.66e-05</td> <td>    5.911</td> <td> 0.001</td> <td>  9.2e-05</td> <td>    0.000</td>\n",
       "</tr>\n",
       "</table>\n",
       "<table class=\"simpletable\">\n",
       "<tr>\n",
       "  <th>Omnibus:</th>       <td> 1.451</td> <th>  Durbin-Watson:     </th> <td>   2.463</td>\n",
       "</tr>\n",
       "<tr>\n",
       "  <th>Prob(Omnibus):</th> <td> 0.484</td> <th>  Jarque-Bera (JB):  </th> <td>   0.709</td>\n",
       "</tr>\n",
       "<tr>\n",
       "  <th>Skew:</th>          <td>-0.227</td> <th>  Prob(JB):          </th> <td>   0.702</td>\n",
       "</tr>\n",
       "<tr>\n",
       "  <th>Kurtosis:</th>      <td> 1.615</td> <th>  Cond. No.          </th> <td>6.75e+08</td>\n",
       "</tr>\n",
       "</table><br/><br/>Notes:<br/>[1] Standard Errors assume that the covariance matrix of the errors is correctly specified.<br/>[2] The condition number is large, 6.75e+08. This might indicate that there are<br/>strong multicollinearity or other numerical problems."
      ],
      "text/plain": [
       "<class 'statsmodels.iolib.summary.Summary'>\n",
       "\"\"\"\n",
       "                            OLS Regression Results                            \n",
       "==============================================================================\n",
       "Dep. Variable:         gdp_per_capita   R-squared:                       0.853\n",
       "Model:                            OLS   Adj. R-squared:                  0.829\n",
       "Method:                 Least Squares   F-statistic:                     34.94\n",
       "Date:                Mon, 04 Jul 2022   Prob (F-statistic):            0.00104\n",
       "Time:                        23:19:32   Log-Likelihood:                -82.593\n",
       "No. Observations:                   8   AIC:                             169.2\n",
       "Df Residuals:                       6   BIC:                             169.3\n",
       "Df Model:                           1                                         \n",
       "Covariance Type:            nonrobust                                         \n",
       "==================================================================================\n",
       "                     coef    std err          t      P>|t|      [0.025      0.975]\n",
       "----------------------------------------------------------------------------------\n",
       "Intercept       2.155e+05   7345.107     29.345      0.000    1.98e+05    2.34e+05\n",
       "mj_tax_revenue     0.0002   2.66e-05      5.911      0.001     9.2e-05       0.000\n",
       "==============================================================================\n",
       "Omnibus:                        1.451   Durbin-Watson:                   2.463\n",
       "Prob(Omnibus):                  0.484   Jarque-Bera (JB):                0.709\n",
       "Skew:                          -0.227   Prob(JB):                        0.702\n",
       "Kurtosis:                       1.615   Cond. No.                     6.75e+08\n",
       "==============================================================================\n",
       "\n",
       "Notes:\n",
       "[1] Standard Errors assume that the covariance matrix of the errors is correctly specified.\n",
       "[2] The condition number is large, 6.75e+08. This might indicate that there are\n",
       "strong multicollinearity or other numerical problems.\n",
       "\"\"\""
      ]
     },
     "execution_count": 51,
     "metadata": {},
     "output_type": "execute_result"
    }
   ],
   "source": [
    "res2 = smf.ols(formula=\"gdp_per_capita ~ mj_tax_revenue\", data=co_plot_df).fit() \n",
    "res2.summary()"
   ]
  },
  {
   "cell_type": "code",
   "execution_count": 50,
   "id": "91ce34bf",
   "metadata": {},
   "outputs": [
    {
     "name": "stderr",
     "output_type": "stream",
     "text": [
      "/Users/jonathanho/opt/anaconda3/envs/VirtEnv/lib/python3.7/site-packages/statsmodels/stats/stattools.py:75: ValueWarning: omni_normtest is not valid with less than 8 observations; 7 samples were given.\n",
      "  \"samples were given.\" % int(n), ValueWarning)\n"
     ]
    },
    {
     "data": {
      "text/html": [
       "<table class=\"simpletable\">\n",
       "<caption>OLS Regression Results</caption>\n",
       "<tr>\n",
       "  <th>Dep. Variable:</th>     <td>gdp_per_capita</td>  <th>  R-squared:         </th> <td>   0.644</td>\n",
       "</tr>\n",
       "<tr>\n",
       "  <th>Model:</th>                   <td>OLS</td>       <th>  Adj. R-squared:    </th> <td>   0.573</td>\n",
       "</tr>\n",
       "<tr>\n",
       "  <th>Method:</th>             <td>Least Squares</td>  <th>  F-statistic:       </th> <td>   9.040</td>\n",
       "</tr>\n",
       "<tr>\n",
       "  <th>Date:</th>             <td>Mon, 04 Jul 2022</td> <th>  Prob (F-statistic):</th>  <td>0.0299</td> \n",
       "</tr>\n",
       "<tr>\n",
       "  <th>Time:</th>                 <td>22:29:47</td>     <th>  Log-Likelihood:    </th> <td> -70.532</td>\n",
       "</tr>\n",
       "<tr>\n",
       "  <th>No. Observations:</th>      <td>     7</td>      <th>  AIC:               </th> <td>   145.1</td>\n",
       "</tr>\n",
       "<tr>\n",
       "  <th>Df Residuals:</th>          <td>     5</td>      <th>  BIC:               </th> <td>   145.0</td>\n",
       "</tr>\n",
       "<tr>\n",
       "  <th>Df Model:</th>              <td>     1</td>      <th>                     </th>     <td> </td>   \n",
       "</tr>\n",
       "<tr>\n",
       "  <th>Covariance Type:</th>      <td>nonrobust</td>    <th>                     </th>     <td> </td>   \n",
       "</tr>\n",
       "</table>\n",
       "<table class=\"simpletable\">\n",
       "<tr>\n",
       "         <td></td>           <th>coef</th>     <th>std err</th>      <th>t</th>      <th>P>|t|</th>  <th>[0.025</th>    <th>0.975]</th>  \n",
       "</tr>\n",
       "<tr>\n",
       "  <th>Intercept</th>      <td> 2.769e+04</td> <td> 6900.504</td> <td>    4.013</td> <td> 0.010</td> <td> 9952.768</td> <td> 4.54e+04</td>\n",
       "</tr>\n",
       "<tr>\n",
       "  <th>mj_tax_revenue</th> <td>   -0.0004</td> <td>    0.000</td> <td>   -3.007</td> <td> 0.030</td> <td>   -0.001</td> <td>-5.49e-05</td>\n",
       "</tr>\n",
       "</table>\n",
       "<table class=\"simpletable\">\n",
       "<tr>\n",
       "  <th>Omnibus:</th>       <td>   nan</td> <th>  Durbin-Watson:     </th> <td>   1.744</td>\n",
       "</tr>\n",
       "<tr>\n",
       "  <th>Prob(Omnibus):</th> <td>   nan</td> <th>  Jarque-Bera (JB):  </th> <td>   0.762</td>\n",
       "</tr>\n",
       "<tr>\n",
       "  <th>Skew:</th>          <td> 0.807</td> <th>  Prob(JB):          </th> <td>   0.683</td>\n",
       "</tr>\n",
       "<tr>\n",
       "  <th>Kurtosis:</th>      <td> 3.097</td> <th>  Cond. No.          </th> <td>1.47e+08</td>\n",
       "</tr>\n",
       "</table><br/><br/>Notes:<br/>[1] Standard Errors assume that the covariance matrix of the errors is correctly specified.<br/>[2] The condition number is large, 1.47e+08. This might indicate that there are<br/>strong multicollinearity or other numerical problems."
      ],
      "text/plain": [
       "<class 'statsmodels.iolib.summary.Summary'>\n",
       "\"\"\"\n",
       "                            OLS Regression Results                            \n",
       "==============================================================================\n",
       "Dep. Variable:         gdp_per_capita   R-squared:                       0.644\n",
       "Model:                            OLS   Adj. R-squared:                  0.573\n",
       "Method:                 Least Squares   F-statistic:                     9.040\n",
       "Date:                Mon, 04 Jul 2022   Prob (F-statistic):             0.0299\n",
       "Time:                        22:29:47   Log-Likelihood:                -70.532\n",
       "No. Observations:                   7   AIC:                             145.1\n",
       "Df Residuals:                       5   BIC:                             145.0\n",
       "Df Model:                           1                                         \n",
       "Covariance Type:            nonrobust                                         \n",
       "==================================================================================\n",
       "                     coef    std err          t      P>|t|      [0.025      0.975]\n",
       "----------------------------------------------------------------------------------\n",
       "Intercept       2.769e+04   6900.504      4.013      0.010    9952.768    4.54e+04\n",
       "mj_tax_revenue    -0.0004      0.000     -3.007      0.030      -0.001   -5.49e-05\n",
       "==============================================================================\n",
       "Omnibus:                          nan   Durbin-Watson:                   1.744\n",
       "Prob(Omnibus):                    nan   Jarque-Bera (JB):                0.762\n",
       "Skew:                           0.807   Prob(JB):                        0.683\n",
       "Kurtosis:                       3.097   Cond. No.                     1.47e+08\n",
       "==============================================================================\n",
       "\n",
       "Notes:\n",
       "[1] Standard Errors assume that the covariance matrix of the errors is correctly specified.\n",
       "[2] The condition number is large, 1.47e+08. This might indicate that there are\n",
       "strong multicollinearity or other numerical problems.\n",
       "\"\"\""
      ]
     },
     "execution_count": 50,
     "metadata": {},
     "output_type": "execute_result"
    }
   ],
   "source": [
    "res = smf.ols(formula=\"gdp_per_capita ~ mj_tax_revenue\", data=diff_df).fit() \n",
    "res.summary()"
   ]
  }
 ],
 "metadata": {
  "kernelspec": {
   "display_name": "Python 3 (ipykernel)",
   "language": "python",
   "name": "python3"
  },
  "language_info": {
   "codemirror_mode": {
    "name": "ipython",
    "version": 3
   },
   "file_extension": ".py",
   "mimetype": "text/x-python",
   "name": "python",
   "nbconvert_exporter": "python",
   "pygments_lexer": "ipython3",
   "version": "3.7.13"
  }
 },
 "nbformat": 4,
 "nbformat_minor": 5
}
