{
 "cells": [
  {
   "cell_type": "markdown",
   "id": "afebe29a",
   "metadata": {},
   "source": [
    "# Oregon GDP PER CAPITA"
   ]
  },
  {
   "cell_type": "code",
   "execution_count": 1,
   "id": "40a2f039",
   "metadata": {},
   "outputs": [],
   "source": [
    "import pandas as pd\n",
    "import numpy as np \n",
    "import plotly.express as px"
   ]
  },
  {
   "cell_type": "code",
   "execution_count": 2,
   "id": "5ca297c7",
   "metadata": {},
   "outputs": [],
   "source": [
    "pd.set_option('display.max_columns', None)\n",
    "pd.set_option('display.max_rows', None)"
   ]
  },
  {
   "cell_type": "code",
   "execution_count": 3,
   "id": "27ffc9a0",
   "metadata": {
    "scrolled": true
   },
   "outputs": [],
   "source": [
    "or_df = pd.read_csv(\"../state_gdp/oregon_gdp_cleaned.csv\")\n",
    "# or_df"
   ]
  },
  {
   "cell_type": "code",
   "execution_count": 4,
   "id": "e5274068",
   "metadata": {},
   "outputs": [],
   "source": [
    "or_df = or_df.iloc[19:]\n",
    "# or_df"
   ]
  },
  {
   "cell_type": "code",
   "execution_count": 5,
   "id": "3dec3eea",
   "metadata": {},
   "outputs": [],
   "source": [
    "or_df = pd.DataFrame(or_df)"
   ]
  },
  {
   "cell_type": "markdown",
   "id": "fcb01f9d",
   "metadata": {},
   "source": [
    "## Converting from millions to ones"
   ]
  },
  {
   "cell_type": "code",
   "execution_count": 6,
   "id": "001366cf",
   "metadata": {},
   "outputs": [],
   "source": [
    "or_df.rename(columns={\"dollars (millions)\": \"gdp\"}, inplace=True)"
   ]
  },
  {
   "cell_type": "code",
   "execution_count": 7,
   "id": "d6b3ae38",
   "metadata": {},
   "outputs": [],
   "source": [
    "gdp = or_df[\"gdp\"].tolist()"
   ]
  },
  {
   "cell_type": "code",
   "execution_count": 8,
   "id": "e5c7cbde",
   "metadata": {},
   "outputs": [],
   "source": [
    "def actual_total():\n",
    "    gdp_total = []\n",
    "    value = 0\n",
    "    count = 1 \n",
    "    while count <= 6:\n",
    "        total = gdp[value]*1000000\n",
    "        gdp_total.append(total)\n",
    "        value += 1\n",
    "        count += 1\n",
    "    return gdp_total"
   ]
  },
  {
   "cell_type": "code",
   "execution_count": 9,
   "id": "c1278793",
   "metadata": {},
   "outputs": [],
   "source": [
    "act_gdp = actual_total()"
   ]
  },
  {
   "cell_type": "code",
   "execution_count": 10,
   "id": "36f6e5bc",
   "metadata": {},
   "outputs": [],
   "source": [
    "data = {\"year\": [2016, 2017, 2018, 2019, 2020, 2021],\n",
    "       \"gdp\": act_gdp}\n",
    "or_gdp_year = pd.DataFrame(data)"
   ]
  },
  {
   "cell_type": "markdown",
   "id": "dd9c5940",
   "metadata": {},
   "source": [
    "# Import population data"
   ]
  },
  {
   "cell_type": "code",
   "execution_count": 11,
   "id": "9421ae23",
   "metadata": {},
   "outputs": [],
   "source": [
    "pop_df = pd.read_csv(\"../state_pop/oregon_population_cleaned.csv\")\n",
    "# pop_df"
   ]
  },
  {
   "cell_type": "code",
   "execution_count": 12,
   "id": "433c6ead",
   "metadata": {},
   "outputs": [],
   "source": [
    "pop_df = pop_df.iloc[116:]\n",
    "# pop_df.head()"
   ]
  },
  {
   "cell_type": "markdown",
   "id": "c440c940",
   "metadata": {},
   "source": [
    "## Converting the population out of thousands\n",
    "### Data was abbreviated "
   ]
  },
  {
   "cell_type": "code",
   "execution_count": 13,
   "id": "6d7e37f0",
   "metadata": {},
   "outputs": [],
   "source": [
    "or_pop = pop_df[\"oregon_population\"].tolist()"
   ]
  },
  {
   "cell_type": "code",
   "execution_count": 14,
   "id": "384325fd",
   "metadata": {},
   "outputs": [],
   "source": [
    "def actual_pop():\n",
    "    pop_total = []\n",
    "    value = 0\n",
    "    count = 1 \n",
    "    while count <= 6:\n",
    "        total = or_pop[value]*1000\n",
    "        pop_total.append(total)\n",
    "        value += 1\n",
    "        count += 1\n",
    "    return pop_total"
   ]
  },
  {
   "cell_type": "code",
   "execution_count": 15,
   "id": "6b1e7e65",
   "metadata": {},
   "outputs": [],
   "source": [
    "act_pop = actual_pop()"
   ]
  },
  {
   "cell_type": "code",
   "execution_count": 16,
   "id": "473120a2",
   "metadata": {
    "scrolled": true
   },
   "outputs": [
    {
     "data": {
      "text/html": [
       "<div>\n",
       "<style scoped>\n",
       "    .dataframe tbody tr th:only-of-type {\n",
       "        vertical-align: middle;\n",
       "    }\n",
       "\n",
       "    .dataframe tbody tr th {\n",
       "        vertical-align: top;\n",
       "    }\n",
       "\n",
       "    .dataframe thead th {\n",
       "        text-align: right;\n",
       "    }\n",
       "</style>\n",
       "<table border=\"1\" class=\"dataframe\">\n",
       "  <thead>\n",
       "    <tr style=\"text-align: right;\">\n",
       "      <th></th>\n",
       "      <th>year</th>\n",
       "      <th>population</th>\n",
       "    </tr>\n",
       "  </thead>\n",
       "  <tbody>\n",
       "    <tr>\n",
       "      <th>0</th>\n",
       "      <td>2016</td>\n",
       "      <td>4093271.0</td>\n",
       "    </tr>\n",
       "    <tr>\n",
       "      <th>1</th>\n",
       "      <td>2017</td>\n",
       "      <td>4147294.0</td>\n",
       "    </tr>\n",
       "    <tr>\n",
       "      <th>2</th>\n",
       "      <td>2018</td>\n",
       "      <td>4183538.0</td>\n",
       "    </tr>\n",
       "    <tr>\n",
       "      <th>3</th>\n",
       "      <td>2019</td>\n",
       "      <td>4216116.0</td>\n",
       "    </tr>\n",
       "    <tr>\n",
       "      <th>4</th>\n",
       "      <td>2020</td>\n",
       "      <td>4241544.0</td>\n",
       "    </tr>\n",
       "    <tr>\n",
       "      <th>5</th>\n",
       "      <td>2021</td>\n",
       "      <td>4246155.0</td>\n",
       "    </tr>\n",
       "  </tbody>\n",
       "</table>\n",
       "</div>"
      ],
      "text/plain": [
       "   year  population\n",
       "0  2016   4093271.0\n",
       "1  2017   4147294.0\n",
       "2  2018   4183538.0\n",
       "3  2019   4216116.0\n",
       "4  2020   4241544.0\n",
       "5  2021   4246155.0"
      ]
     },
     "execution_count": 16,
     "metadata": {},
     "output_type": "execute_result"
    }
   ],
   "source": [
    "data = {\"year\": [2016, 2017, 2018, 2019, 2020, 2021],\n",
    "       \"population\": act_pop}\n",
    "or_pop_year = pd.DataFrame(data)\n",
    "or_pop_year"
   ]
  },
  {
   "cell_type": "markdown",
   "id": "b35f3a8f",
   "metadata": {},
   "source": [
    "## Merge both DS"
   ]
  },
  {
   "cell_type": "code",
   "execution_count": 17,
   "id": "283aaa7f",
   "metadata": {
    "scrolled": false
   },
   "outputs": [
    {
     "data": {
      "text/html": [
       "<div>\n",
       "<style scoped>\n",
       "    .dataframe tbody tr th:only-of-type {\n",
       "        vertical-align: middle;\n",
       "    }\n",
       "\n",
       "    .dataframe tbody tr th {\n",
       "        vertical-align: top;\n",
       "    }\n",
       "\n",
       "    .dataframe thead th {\n",
       "        text-align: right;\n",
       "    }\n",
       "</style>\n",
       "<table border=\"1\" class=\"dataframe\">\n",
       "  <thead>\n",
       "    <tr style=\"text-align: right;\">\n",
       "      <th></th>\n",
       "      <th>year</th>\n",
       "      <th>gdp</th>\n",
       "      <th>population</th>\n",
       "    </tr>\n",
       "  </thead>\n",
       "  <tbody>\n",
       "    <tr>\n",
       "      <th>0</th>\n",
       "      <td>2016</td>\n",
       "      <td>2.113059e+11</td>\n",
       "      <td>4093271.0</td>\n",
       "    </tr>\n",
       "    <tr>\n",
       "      <th>1</th>\n",
       "      <td>2017</td>\n",
       "      <td>2.226138e+11</td>\n",
       "      <td>4147294.0</td>\n",
       "    </tr>\n",
       "    <tr>\n",
       "      <th>2</th>\n",
       "      <td>2018</td>\n",
       "      <td>2.370660e+11</td>\n",
       "      <td>4183538.0</td>\n",
       "    </tr>\n",
       "    <tr>\n",
       "      <th>3</th>\n",
       "      <td>2019</td>\n",
       "      <td>2.466471e+11</td>\n",
       "      <td>4216116.0</td>\n",
       "    </tr>\n",
       "    <tr>\n",
       "      <th>4</th>\n",
       "      <td>2020</td>\n",
       "      <td>2.437768e+11</td>\n",
       "      <td>4241544.0</td>\n",
       "    </tr>\n",
       "    <tr>\n",
       "      <th>5</th>\n",
       "      <td>2021</td>\n",
       "      <td>2.669431e+11</td>\n",
       "      <td>4246155.0</td>\n",
       "    </tr>\n",
       "  </tbody>\n",
       "</table>\n",
       "</div>"
      ],
      "text/plain": [
       "   year           gdp  population\n",
       "0  2016  2.113059e+11   4093271.0\n",
       "1  2017  2.226138e+11   4147294.0\n",
       "2  2018  2.370660e+11   4183538.0\n",
       "3  2019  2.466471e+11   4216116.0\n",
       "4  2020  2.437768e+11   4241544.0\n",
       "5  2021  2.669431e+11   4246155.0"
      ]
     },
     "execution_count": 17,
     "metadata": {},
     "output_type": "execute_result"
    }
   ],
   "source": [
    "merged_df = pd.merge(or_gdp_year, or_pop_year, how=\"outer\", on=[\"year\"])\n",
    "merged_df"
   ]
  },
  {
   "cell_type": "markdown",
   "id": "23ce6522",
   "metadata": {},
   "source": [
    "## Finding GDP per captia of Oregon"
   ]
  },
  {
   "cell_type": "code",
   "execution_count": 18,
   "id": "25d97f90",
   "metadata": {},
   "outputs": [],
   "source": [
    "population_list = merged_df.population.to_list()\n",
    "\n",
    "gdp_list = merged_df.gdp.to_list()\n",
    "\n",
    "per_capita_list = []\n",
    "\n",
    "#function to divide gdp by population\n",
    "\n",
    "def per_capita():\n",
    "\n",
    "    for population, gdp in zip(population_list, gdp_list):\n",
    "\n",
    "        per_capita_list.append((gdp/population))\n",
    "        \n",
    "    return per_capita_list"
   ]
  },
  {
   "cell_type": "markdown",
   "id": "f8a8580e",
   "metadata": {},
   "source": [
    "## inserting per capita list as a new column"
   ]
  },
  {
   "cell_type": "code",
   "execution_count": 19,
   "id": "ba4bf14b",
   "metadata": {},
   "outputs": [],
   "source": [
    "per_capita_list = per_capita()"
   ]
  },
  {
   "cell_type": "code",
   "execution_count": 20,
   "id": "0b81bdee",
   "metadata": {},
   "outputs": [],
   "source": [
    "capita_data = {\"gdp_per_capita\": per_capita_list}\n",
    "capita_column = pd.DataFrame(capita_data)"
   ]
  },
  {
   "cell_type": "code",
   "execution_count": 21,
   "id": "9f3d4ca2",
   "metadata": {},
   "outputs": [],
   "source": [
    "merged_df.insert(3, \"gdp_per_capita\", capita_column, True)"
   ]
  },
  {
   "cell_type": "code",
   "execution_count": 22,
   "id": "74f1b15c",
   "metadata": {},
   "outputs": [],
   "source": [
    "merged_df = pd.DataFrame(merged_df)"
   ]
  },
  {
   "cell_type": "markdown",
   "id": "bd68944b",
   "metadata": {},
   "source": [
    "# Oregon marijuana tax\n",
    "#### The data set i'm looking over is from the Oregon Department of Revenue and I looked into this research because of the reliability. This information will give me the volume of sales that were made in Oregon. I can use this to compare to other legalized states and see if there is any relationship among growth of state economy"
   ]
  },
  {
   "cell_type": "code",
   "execution_count": 23,
   "id": "8c930e59",
   "metadata": {},
   "outputs": [],
   "source": [
    "df = pd.read_csv(\"../marijuana_tax/oregon_marijuana_cleaned.csv\")\n",
    "# df"
   ]
  },
  {
   "cell_type": "code",
   "execution_count": 24,
   "id": "491ff9fd",
   "metadata": {},
   "outputs": [],
   "source": [
    "df = pd.DataFrame(data=df)\n",
    "# df"
   ]
  },
  {
   "cell_type": "code",
   "execution_count": 25,
   "id": "5c4707fe",
   "metadata": {},
   "outputs": [],
   "source": [
    "#dropna with a how parameter to drop rows with all elements missing\n",
    "df.dropna(how='all', inplace=True)\n",
    "# df"
   ]
  },
  {
   "cell_type": "code",
   "execution_count": 26,
   "id": "d6a7bc8e",
   "metadata": {},
   "outputs": [],
   "source": [
    "#dropna with an axis parameter to drop columns with a NaN value\n",
    "df.dropna(axis='columns', inplace=True)\n",
    "# df"
   ]
  },
  {
   "cell_type": "code",
   "execution_count": 27,
   "id": "a18d9c6c",
   "metadata": {},
   "outputs": [],
   "source": [
    "# df.info()"
   ]
  },
  {
   "cell_type": "code",
   "execution_count": 28,
   "id": "a1245650",
   "metadata": {},
   "outputs": [
    {
     "data": {
      "text/html": [
       "<div>\n",
       "<style scoped>\n",
       "    .dataframe tbody tr th:only-of-type {\n",
       "        vertical-align: middle;\n",
       "    }\n",
       "\n",
       "    .dataframe tbody tr th {\n",
       "        vertical-align: top;\n",
       "    }\n",
       "\n",
       "    .dataframe thead th {\n",
       "        text-align: right;\n",
       "    }\n",
       "</style>\n",
       "<table border=\"1\" class=\"dataframe\">\n",
       "  <thead>\n",
       "    <tr style=\"text-align: right;\">\n",
       "      <th></th>\n",
       "      <th>Month</th>\n",
       "      <th>State Tax Received</th>\n",
       "      <th>Local Tax Received</th>\n",
       "    </tr>\n",
       "  </thead>\n",
       "  <tbody>\n",
       "    <tr>\n",
       "      <th>0</th>\n",
       "      <td>Feb 2016</td>\n",
       "      <td>2484170</td>\n",
       "      <td>0</td>\n",
       "    </tr>\n",
       "    <tr>\n",
       "      <th>1</th>\n",
       "      <td>Mar 2016</td>\n",
       "      <td>4358754</td>\n",
       "      <td>0</td>\n",
       "    </tr>\n",
       "    <tr>\n",
       "      <th>2</th>\n",
       "      <td>Apr 2016</td>\n",
       "      <td>3735111</td>\n",
       "      <td>0</td>\n",
       "    </tr>\n",
       "    <tr>\n",
       "      <th>3</th>\n",
       "      <td>May 2016</td>\n",
       "      <td>4339440</td>\n",
       "      <td>0</td>\n",
       "    </tr>\n",
       "    <tr>\n",
       "      <th>4</th>\n",
       "      <td>Jun 2016</td>\n",
       "      <td>5735508</td>\n",
       "      <td>0</td>\n",
       "    </tr>\n",
       "  </tbody>\n",
       "</table>\n",
       "</div>"
      ],
      "text/plain": [
       "      Month State Tax Received Local Tax Received\n",
       "0  Feb 2016            2484170                  0\n",
       "1  Mar 2016            4358754                  0\n",
       "2  Apr 2016            3735111                  0\n",
       "3  May 2016            4339440                  0\n",
       "4  Jun 2016            5735508                  0"
      ]
     },
     "execution_count": 28,
     "metadata": {},
     "output_type": "execute_result"
    }
   ],
   "source": [
    "# cleaning the $ and , in order to convert the Dtypes\n",
    "df.replace({'\\$':'', '\\,':'', '\\(':'', '\\)':''}, regex = True, inplace= True)\n",
    "df.head()"
   ]
  },
  {
   "cell_type": "code",
   "execution_count": 29,
   "id": "df4fe875",
   "metadata": {},
   "outputs": [],
   "source": [
    "df['State Tax Received'] = df['State Tax Received'].astype(str).astype(int)\n",
    "df['Local Tax Received'] = df['Local Tax Received'].astype(str).astype(int)\n",
    "# df.head()"
   ]
  },
  {
   "cell_type": "code",
   "execution_count": 30,
   "id": "8188677a",
   "metadata": {},
   "outputs": [
    {
     "data": {
      "text/html": [
       "<div>\n",
       "<style scoped>\n",
       "    .dataframe tbody tr th:only-of-type {\n",
       "        vertical-align: middle;\n",
       "    }\n",
       "\n",
       "    .dataframe tbody tr th {\n",
       "        vertical-align: top;\n",
       "    }\n",
       "\n",
       "    .dataframe thead th {\n",
       "        text-align: right;\n",
       "    }\n",
       "</style>\n",
       "<table border=\"1\" class=\"dataframe\">\n",
       "  <thead>\n",
       "    <tr style=\"text-align: right;\">\n",
       "      <th></th>\n",
       "      <th>month</th>\n",
       "      <th>state_tax_received</th>\n",
       "      <th>local_tax_received</th>\n",
       "    </tr>\n",
       "  </thead>\n",
       "  <tbody>\n",
       "    <tr>\n",
       "      <th>0</th>\n",
       "      <td>Feb 2016</td>\n",
       "      <td>2484170</td>\n",
       "      <td>0</td>\n",
       "    </tr>\n",
       "    <tr>\n",
       "      <th>1</th>\n",
       "      <td>Mar 2016</td>\n",
       "      <td>4358754</td>\n",
       "      <td>0</td>\n",
       "    </tr>\n",
       "    <tr>\n",
       "      <th>2</th>\n",
       "      <td>Apr 2016</td>\n",
       "      <td>3735111</td>\n",
       "      <td>0</td>\n",
       "    </tr>\n",
       "    <tr>\n",
       "      <th>3</th>\n",
       "      <td>May 2016</td>\n",
       "      <td>4339440</td>\n",
       "      <td>0</td>\n",
       "    </tr>\n",
       "    <tr>\n",
       "      <th>4</th>\n",
       "      <td>Jun 2016</td>\n",
       "      <td>5735508</td>\n",
       "      <td>0</td>\n",
       "    </tr>\n",
       "    <tr>\n",
       "      <th>5</th>\n",
       "      <td>Jul 2016</td>\n",
       "      <td>5533949</td>\n",
       "      <td>0</td>\n",
       "    </tr>\n",
       "    <tr>\n",
       "      <th>6</th>\n",
       "      <td>Aug 2016</td>\n",
       "      <td>7345281</td>\n",
       "      <td>0</td>\n",
       "    </tr>\n",
       "    <tr>\n",
       "      <th>7</th>\n",
       "      <td>Sep 2016</td>\n",
       "      <td>6679585</td>\n",
       "      <td>0</td>\n",
       "    </tr>\n",
       "    <tr>\n",
       "      <th>8</th>\n",
       "      <td>Oct 2016</td>\n",
       "      <td>7831157</td>\n",
       "      <td>0</td>\n",
       "    </tr>\n",
       "    <tr>\n",
       "      <th>9</th>\n",
       "      <td>Nov 2016</td>\n",
       "      <td>6463877</td>\n",
       "      <td>0</td>\n",
       "    </tr>\n",
       "    <tr>\n",
       "      <th>10</th>\n",
       "      <td>Dec 2016</td>\n",
       "      <td>5647600</td>\n",
       "      <td>0</td>\n",
       "    </tr>\n",
       "    <tr>\n",
       "      <th>11</th>\n",
       "      <td>FY 2016</td>\n",
       "      <td>60154432</td>\n",
       "      <td>0</td>\n",
       "    </tr>\n",
       "    <tr>\n",
       "      <th>12</th>\n",
       "      <td>Jan 2017</td>\n",
       "      <td>5261096</td>\n",
       "      <td>0</td>\n",
       "    </tr>\n",
       "    <tr>\n",
       "      <th>13</th>\n",
       "      <td>Feb 2017</td>\n",
       "      <td>4509163</td>\n",
       "      <td>682601</td>\n",
       "    </tr>\n",
       "    <tr>\n",
       "      <th>14</th>\n",
       "      <td>Mar 2017</td>\n",
       "      <td>4476032</td>\n",
       "      <td>705927</td>\n",
       "    </tr>\n",
       "    <tr>\n",
       "      <th>15</th>\n",
       "      <td>Apr 2017</td>\n",
       "      <td>4484514</td>\n",
       "      <td>685289</td>\n",
       "    </tr>\n",
       "    <tr>\n",
       "      <th>16</th>\n",
       "      <td>May 2017</td>\n",
       "      <td>5734618</td>\n",
       "      <td>903169</td>\n",
       "    </tr>\n",
       "    <tr>\n",
       "      <th>17</th>\n",
       "      <td>Jun 2017</td>\n",
       "      <td>6297025</td>\n",
       "      <td>980297</td>\n",
       "    </tr>\n",
       "    <tr>\n",
       "      <th>18</th>\n",
       "      <td>Jul 2017</td>\n",
       "      <td>5165585</td>\n",
       "      <td>778484</td>\n",
       "    </tr>\n",
       "    <tr>\n",
       "      <th>19</th>\n",
       "      <td>Aug 2017</td>\n",
       "      <td>6771924</td>\n",
       "      <td>1056064</td>\n",
       "    </tr>\n",
       "    <tr>\n",
       "      <th>20</th>\n",
       "      <td>Sep 2017</td>\n",
       "      <td>6442786</td>\n",
       "      <td>1002240</td>\n",
       "    </tr>\n",
       "    <tr>\n",
       "      <th>21</th>\n",
       "      <td>Oct 2017</td>\n",
       "      <td>6217860</td>\n",
       "      <td>1003269</td>\n",
       "    </tr>\n",
       "    <tr>\n",
       "      <th>22</th>\n",
       "      <td>Nov 2017</td>\n",
       "      <td>7044311</td>\n",
       "      <td>1065975</td>\n",
       "    </tr>\n",
       "    <tr>\n",
       "      <th>23</th>\n",
       "      <td>Dec 2017</td>\n",
       "      <td>6241332</td>\n",
       "      <td>935358</td>\n",
       "    </tr>\n",
       "    <tr>\n",
       "      <th>24</th>\n",
       "      <td>FY 2017</td>\n",
       "      <td>68646246</td>\n",
       "      <td>9798673</td>\n",
       "    </tr>\n",
       "    <tr>\n",
       "      <th>25</th>\n",
       "      <td>Jan 2018</td>\n",
       "      <td>8001999</td>\n",
       "      <td>1281581</td>\n",
       "    </tr>\n",
       "    <tr>\n",
       "      <th>26</th>\n",
       "      <td>Feb 2018</td>\n",
       "      <td>6700855</td>\n",
       "      <td>1007936</td>\n",
       "    </tr>\n",
       "    <tr>\n",
       "      <th>27</th>\n",
       "      <td>Mar 2018</td>\n",
       "      <td>6768304</td>\n",
       "      <td>1071102</td>\n",
       "    </tr>\n",
       "    <tr>\n",
       "      <th>28</th>\n",
       "      <td>Apr 2018</td>\n",
       "      <td>7653882</td>\n",
       "      <td>1215050</td>\n",
       "    </tr>\n",
       "    <tr>\n",
       "      <th>29</th>\n",
       "      <td>May 2018</td>\n",
       "      <td>7783565</td>\n",
       "      <td>1217778</td>\n",
       "    </tr>\n",
       "    <tr>\n",
       "      <th>30</th>\n",
       "      <td>Jun 2018</td>\n",
       "      <td>7411327</td>\n",
       "      <td>1149289</td>\n",
       "    </tr>\n",
       "    <tr>\n",
       "      <th>31</th>\n",
       "      <td>Jul 2018</td>\n",
       "      <td>8752076</td>\n",
       "      <td>1347574</td>\n",
       "    </tr>\n",
       "    <tr>\n",
       "      <th>32</th>\n",
       "      <td>Aug 2018</td>\n",
       "      <td>8791774</td>\n",
       "      <td>1322820</td>\n",
       "    </tr>\n",
       "    <tr>\n",
       "      <th>33</th>\n",
       "      <td>Sep 2018</td>\n",
       "      <td>6968501</td>\n",
       "      <td>1085921</td>\n",
       "    </tr>\n",
       "    <tr>\n",
       "      <th>34</th>\n",
       "      <td>Oct 2018</td>\n",
       "      <td>10094972</td>\n",
       "      <td>1514507</td>\n",
       "    </tr>\n",
       "    <tr>\n",
       "      <th>35</th>\n",
       "      <td>Nov 2018</td>\n",
       "      <td>8167938</td>\n",
       "      <td>1259334</td>\n",
       "    </tr>\n",
       "    <tr>\n",
       "      <th>36</th>\n",
       "      <td>Dec 2018</td>\n",
       "      <td>7131792</td>\n",
       "      <td>1077844</td>\n",
       "    </tr>\n",
       "    <tr>\n",
       "      <th>37</th>\n",
       "      <td>FY 2018</td>\n",
       "      <td>94226985</td>\n",
       "      <td>14550736</td>\n",
       "    </tr>\n",
       "    <tr>\n",
       "      <th>38</th>\n",
       "      <td>Jan 2019</td>\n",
       "      <td>8458100</td>\n",
       "      <td>1306892</td>\n",
       "    </tr>\n",
       "    <tr>\n",
       "      <th>39</th>\n",
       "      <td>Feb 2019</td>\n",
       "      <td>8097179</td>\n",
       "      <td>1229196</td>\n",
       "    </tr>\n",
       "    <tr>\n",
       "      <th>40</th>\n",
       "      <td>Mar 2019</td>\n",
       "      <td>8112899</td>\n",
       "      <td>1248981</td>\n",
       "    </tr>\n",
       "    <tr>\n",
       "      <th>41</th>\n",
       "      <td>Apr 2019</td>\n",
       "      <td>8654509</td>\n",
       "      <td>1361001</td>\n",
       "    </tr>\n",
       "    <tr>\n",
       "      <th>42</th>\n",
       "      <td>May 2019</td>\n",
       "      <td>10589110</td>\n",
       "      <td>1664420</td>\n",
       "    </tr>\n",
       "    <tr>\n",
       "      <th>43</th>\n",
       "      <td>Jun 2019</td>\n",
       "      <td>8276098</td>\n",
       "      <td>1284497</td>\n",
       "    </tr>\n",
       "    <tr>\n",
       "      <th>44</th>\n",
       "      <td>Jul 2019</td>\n",
       "      <td>11808392</td>\n",
       "      <td>1831632</td>\n",
       "    </tr>\n",
       "    <tr>\n",
       "      <th>45</th>\n",
       "      <td>Aug 2019</td>\n",
       "      <td>9953007</td>\n",
       "      <td>1547498</td>\n",
       "    </tr>\n",
       "    <tr>\n",
       "      <th>46</th>\n",
       "      <td>Sep 2019</td>\n",
       "      <td>10618396</td>\n",
       "      <td>1625082</td>\n",
       "    </tr>\n",
       "    <tr>\n",
       "      <th>47</th>\n",
       "      <td>Oct 2019</td>\n",
       "      <td>10214204</td>\n",
       "      <td>1591151</td>\n",
       "    </tr>\n",
       "    <tr>\n",
       "      <th>48</th>\n",
       "      <td>Nov 2019</td>\n",
       "      <td>9417355</td>\n",
       "      <td>1473068</td>\n",
       "    </tr>\n",
       "    <tr>\n",
       "      <th>49</th>\n",
       "      <td>Dec 2019</td>\n",
       "      <td>11716029</td>\n",
       "      <td>1840399</td>\n",
       "    </tr>\n",
       "    <tr>\n",
       "      <th>50</th>\n",
       "      <td>FY 2019</td>\n",
       "      <td>115915277</td>\n",
       "      <td>18003816</td>\n",
       "    </tr>\n",
       "    <tr>\n",
       "      <th>51</th>\n",
       "      <td>Jan 2020</td>\n",
       "      <td>10611867</td>\n",
       "      <td>1656894</td>\n",
       "    </tr>\n",
       "    <tr>\n",
       "      <th>52</th>\n",
       "      <td>Feb 2020</td>\n",
       "      <td>9238148</td>\n",
       "      <td>1433282</td>\n",
       "    </tr>\n",
       "    <tr>\n",
       "      <th>53</th>\n",
       "      <td>Mar 2020</td>\n",
       "      <td>9083054</td>\n",
       "      <td>1438641</td>\n",
       "    </tr>\n",
       "    <tr>\n",
       "      <th>54</th>\n",
       "      <td>Apr 2020</td>\n",
       "      <td>12501435</td>\n",
       "      <td>1934881</td>\n",
       "    </tr>\n",
       "    <tr>\n",
       "      <th>55</th>\n",
       "      <td>May 2020</td>\n",
       "      <td>12830074</td>\n",
       "      <td>1993109</td>\n",
       "    </tr>\n",
       "    <tr>\n",
       "      <th>56</th>\n",
       "      <td>Jun 2020</td>\n",
       "      <td>15158388</td>\n",
       "      <td>2401709</td>\n",
       "    </tr>\n",
       "    <tr>\n",
       "      <th>57</th>\n",
       "      <td>Jul 2020</td>\n",
       "      <td>15299923</td>\n",
       "      <td>2398040</td>\n",
       "    </tr>\n",
       "    <tr>\n",
       "      <th>58</th>\n",
       "      <td>Aug 2020</td>\n",
       "      <td>15828592</td>\n",
       "      <td>2454647</td>\n",
       "    </tr>\n",
       "    <tr>\n",
       "      <th>59</th>\n",
       "      <td>Sep 2020</td>\n",
       "      <td>15765218</td>\n",
       "      <td>2445050</td>\n",
       "    </tr>\n",
       "    <tr>\n",
       "      <th>60</th>\n",
       "      <td>Oct 2020</td>\n",
       "      <td>13402081</td>\n",
       "      <td>2174757</td>\n",
       "    </tr>\n",
       "    <tr>\n",
       "      <th>61</th>\n",
       "      <td>Nov 2020</td>\n",
       "      <td>13322215</td>\n",
       "      <td>2085889</td>\n",
       "    </tr>\n",
       "    <tr>\n",
       "      <th>62</th>\n",
       "      <td>Dec 2020</td>\n",
       "      <td>15295278</td>\n",
       "      <td>2381276</td>\n",
       "    </tr>\n",
       "    <tr>\n",
       "      <th>63</th>\n",
       "      <td>FY 2020</td>\n",
       "      <td>158336274</td>\n",
       "      <td>24798175</td>\n",
       "    </tr>\n",
       "    <tr>\n",
       "      <th>64</th>\n",
       "      <td>Jan 2021</td>\n",
       "      <td>12532276</td>\n",
       "      <td>1967313</td>\n",
       "    </tr>\n",
       "    <tr>\n",
       "      <th>65</th>\n",
       "      <td>Feb 2021</td>\n",
       "      <td>15049955</td>\n",
       "      <td>2307375</td>\n",
       "    </tr>\n",
       "    <tr>\n",
       "      <th>66</th>\n",
       "      <td>Mar 2021</td>\n",
       "      <td>15210321</td>\n",
       "      <td>2450010</td>\n",
       "    </tr>\n",
       "    <tr>\n",
       "      <th>67</th>\n",
       "      <td>Apr 2021</td>\n",
       "      <td>15015135</td>\n",
       "      <td>2365215</td>\n",
       "    </tr>\n",
       "    <tr>\n",
       "      <th>68</th>\n",
       "      <td>May 2021</td>\n",
       "      <td>13793142</td>\n",
       "      <td>2118453</td>\n",
       "    </tr>\n",
       "    <tr>\n",
       "      <th>69</th>\n",
       "      <td>Jun 2021</td>\n",
       "      <td>17748352</td>\n",
       "      <td>2853407</td>\n",
       "    </tr>\n",
       "    <tr>\n",
       "      <th>70</th>\n",
       "      <td>Jul 2021</td>\n",
       "      <td>15137504</td>\n",
       "      <td>2340445</td>\n",
       "    </tr>\n",
       "    <tr>\n",
       "      <th>71</th>\n",
       "      <td>Aug 2021</td>\n",
       "      <td>15962187</td>\n",
       "      <td>2565453</td>\n",
       "    </tr>\n",
       "    <tr>\n",
       "      <th>72</th>\n",
       "      <td>Sep 2021</td>\n",
       "      <td>17784043</td>\n",
       "      <td>2740551</td>\n",
       "    </tr>\n",
       "    <tr>\n",
       "      <th>73</th>\n",
       "      <td>Oct 2021</td>\n",
       "      <td>11920657</td>\n",
       "      <td>1895146</td>\n",
       "    </tr>\n",
       "    <tr>\n",
       "      <th>74</th>\n",
       "      <td>Nov 2021</td>\n",
       "      <td>16604096</td>\n",
       "      <td>2608192</td>\n",
       "    </tr>\n",
       "    <tr>\n",
       "      <th>75</th>\n",
       "      <td>Dec 2021</td>\n",
       "      <td>11016276</td>\n",
       "      <td>1778517</td>\n",
       "    </tr>\n",
       "    <tr>\n",
       "      <th>76</th>\n",
       "      <td>FY 2021</td>\n",
       "      <td>177773943</td>\n",
       "      <td>27990079</td>\n",
       "    </tr>\n",
       "    <tr>\n",
       "      <th>77</th>\n",
       "      <td>Jan 2022</td>\n",
       "      <td>15170500</td>\n",
       "      <td>2372773</td>\n",
       "    </tr>\n",
       "    <tr>\n",
       "      <th>78</th>\n",
       "      <td>Feb 2022</td>\n",
       "      <td>11587383</td>\n",
       "      <td>1835154</td>\n",
       "    </tr>\n",
       "  </tbody>\n",
       "</table>\n",
       "</div>"
      ],
      "text/plain": [
       "       month  state_tax_received  local_tax_received\n",
       "0   Feb 2016             2484170                   0\n",
       "1   Mar 2016             4358754                   0\n",
       "2   Apr 2016             3735111                   0\n",
       "3   May 2016             4339440                   0\n",
       "4   Jun 2016             5735508                   0\n",
       "5   Jul 2016             5533949                   0\n",
       "6   Aug 2016             7345281                   0\n",
       "7   Sep 2016             6679585                   0\n",
       "8   Oct 2016             7831157                   0\n",
       "9   Nov 2016             6463877                   0\n",
       "10  Dec 2016             5647600                   0\n",
       "11   FY 2016            60154432                   0\n",
       "12  Jan 2017             5261096                   0\n",
       "13  Feb 2017             4509163              682601\n",
       "14  Mar 2017             4476032              705927\n",
       "15  Apr 2017             4484514              685289\n",
       "16  May 2017             5734618              903169\n",
       "17  Jun 2017             6297025              980297\n",
       "18  Jul 2017             5165585              778484\n",
       "19  Aug 2017             6771924             1056064\n",
       "20  Sep 2017             6442786             1002240\n",
       "21  Oct 2017             6217860             1003269\n",
       "22  Nov 2017             7044311             1065975\n",
       "23  Dec 2017             6241332              935358\n",
       "24   FY 2017            68646246             9798673\n",
       "25  Jan 2018             8001999             1281581\n",
       "26  Feb 2018             6700855             1007936\n",
       "27  Mar 2018             6768304             1071102\n",
       "28  Apr 2018             7653882             1215050\n",
       "29  May 2018             7783565             1217778\n",
       "30  Jun 2018             7411327             1149289\n",
       "31  Jul 2018             8752076             1347574\n",
       "32  Aug 2018             8791774             1322820\n",
       "33  Sep 2018             6968501             1085921\n",
       "34  Oct 2018            10094972             1514507\n",
       "35  Nov 2018             8167938             1259334\n",
       "36  Dec 2018             7131792             1077844\n",
       "37   FY 2018            94226985            14550736\n",
       "38  Jan 2019             8458100             1306892\n",
       "39  Feb 2019             8097179             1229196\n",
       "40  Mar 2019             8112899             1248981\n",
       "41  Apr 2019             8654509             1361001\n",
       "42  May 2019            10589110             1664420\n",
       "43  Jun 2019             8276098             1284497\n",
       "44  Jul 2019            11808392             1831632\n",
       "45  Aug 2019             9953007             1547498\n",
       "46  Sep 2019            10618396             1625082\n",
       "47  Oct 2019            10214204             1591151\n",
       "48  Nov 2019             9417355             1473068\n",
       "49  Dec 2019            11716029             1840399\n",
       "50   FY 2019           115915277            18003816\n",
       "51  Jan 2020            10611867             1656894\n",
       "52  Feb 2020             9238148             1433282\n",
       "53  Mar 2020             9083054             1438641\n",
       "54  Apr 2020            12501435             1934881\n",
       "55  May 2020            12830074             1993109\n",
       "56  Jun 2020            15158388             2401709\n",
       "57  Jul 2020            15299923             2398040\n",
       "58  Aug 2020            15828592             2454647\n",
       "59  Sep 2020            15765218             2445050\n",
       "60  Oct 2020            13402081             2174757\n",
       "61  Nov 2020            13322215             2085889\n",
       "62  Dec 2020            15295278             2381276\n",
       "63   FY 2020           158336274            24798175\n",
       "64  Jan 2021            12532276             1967313\n",
       "65  Feb 2021            15049955             2307375\n",
       "66  Mar 2021            15210321             2450010\n",
       "67  Apr 2021            15015135             2365215\n",
       "68  May 2021            13793142             2118453\n",
       "69  Jun 2021            17748352             2853407\n",
       "70  Jul 2021            15137504             2340445\n",
       "71  Aug 2021            15962187             2565453\n",
       "72  Sep 2021            17784043             2740551\n",
       "73  Oct 2021            11920657             1895146\n",
       "74  Nov 2021            16604096             2608192\n",
       "75  Dec 2021            11016276             1778517\n",
       "76   FY 2021           177773943            27990079\n",
       "77  Jan 2022            15170500             2372773\n",
       "78  Feb 2022            11587383             1835154"
      ]
     },
     "execution_count": 30,
     "metadata": {},
     "output_type": "execute_result"
    }
   ],
   "source": [
    "df.rename(columns = {\"State Tax Received\":\"state_tax_received\", \"Local Tax Received\":\"local_tax_received\", \"Month\":\"month\"}, inplace=True)\n",
    "df"
   ]
  },
  {
   "cell_type": "markdown",
   "id": "fb0fafe7",
   "metadata": {},
   "source": [
    "## Getting full year information"
   ]
  },
  {
   "cell_type": "code",
   "execution_count": 31,
   "id": "a48a7f45",
   "metadata": {
    "scrolled": true
   },
   "outputs": [],
   "source": [
    "#dropping full year report \n",
    "df_year = df.iloc[[37, 11, 24, 50, 63, 76]]\n",
    "df_year = df_year.sort_index()"
   ]
  },
  {
   "cell_type": "code",
   "execution_count": 32,
   "id": "ffaabda5",
   "metadata": {},
   "outputs": [],
   "source": [
    "df_year = df_year.reset_index()"
   ]
  },
  {
   "cell_type": "code",
   "execution_count": 33,
   "id": "204dc4eb",
   "metadata": {
    "scrolled": true
   },
   "outputs": [
    {
     "data": {
      "text/html": [
       "<div>\n",
       "<style scoped>\n",
       "    .dataframe tbody tr th:only-of-type {\n",
       "        vertical-align: middle;\n",
       "    }\n",
       "\n",
       "    .dataframe tbody tr th {\n",
       "        vertical-align: top;\n",
       "    }\n",
       "\n",
       "    .dataframe thead th {\n",
       "        text-align: right;\n",
       "    }\n",
       "</style>\n",
       "<table border=\"1\" class=\"dataframe\">\n",
       "  <thead>\n",
       "    <tr style=\"text-align: right;\">\n",
       "      <th></th>\n",
       "      <th>year</th>\n",
       "      <th>state_tax_received</th>\n",
       "    </tr>\n",
       "  </thead>\n",
       "  <tbody>\n",
       "    <tr>\n",
       "      <th>0</th>\n",
       "      <td>FY 2016</td>\n",
       "      <td>60154432</td>\n",
       "    </tr>\n",
       "    <tr>\n",
       "      <th>1</th>\n",
       "      <td>FY 2017</td>\n",
       "      <td>68646246</td>\n",
       "    </tr>\n",
       "    <tr>\n",
       "      <th>2</th>\n",
       "      <td>FY 2018</td>\n",
       "      <td>94226985</td>\n",
       "    </tr>\n",
       "    <tr>\n",
       "      <th>3</th>\n",
       "      <td>FY 2019</td>\n",
       "      <td>115915277</td>\n",
       "    </tr>\n",
       "    <tr>\n",
       "      <th>4</th>\n",
       "      <td>FY 2020</td>\n",
       "      <td>158336274</td>\n",
       "    </tr>\n",
       "  </tbody>\n",
       "</table>\n",
       "</div>"
      ],
      "text/plain": [
       "      year  state_tax_received\n",
       "0  FY 2016            60154432\n",
       "1  FY 2017            68646246\n",
       "2  FY 2018            94226985\n",
       "3  FY 2019           115915277\n",
       "4  FY 2020           158336274"
      ]
     },
     "execution_count": 33,
     "metadata": {},
     "output_type": "execute_result"
    }
   ],
   "source": [
    "df_year = df_year.drop(columns=[\"index\", \"local_tax_received\"])\n",
    "df_year = df_year.rename(columns={\"month\":\"year\"})\n",
    "df_year.head()"
   ]
  },
  {
   "cell_type": "markdown",
   "id": "3c36d209",
   "metadata": {},
   "source": [
    "## Merging GDP and MJ taxes"
   ]
  },
  {
   "cell_type": "code",
   "execution_count": 34,
   "id": "ffbb7837",
   "metadata": {},
   "outputs": [],
   "source": [
    "mj_tax_revenue = df_year[\"state_tax_received\"]"
   ]
  },
  {
   "cell_type": "code",
   "execution_count": 35,
   "id": "5f1a960d",
   "metadata": {},
   "outputs": [
    {
     "data": {
      "text/html": [
       "<div>\n",
       "<style scoped>\n",
       "    .dataframe tbody tr th:only-of-type {\n",
       "        vertical-align: middle;\n",
       "    }\n",
       "\n",
       "    .dataframe tbody tr th {\n",
       "        vertical-align: top;\n",
       "    }\n",
       "\n",
       "    .dataframe thead th {\n",
       "        text-align: right;\n",
       "    }\n",
       "</style>\n",
       "<table border=\"1\" class=\"dataframe\">\n",
       "  <thead>\n",
       "    <tr style=\"text-align: right;\">\n",
       "      <th></th>\n",
       "      <th>year</th>\n",
       "      <th>gdp</th>\n",
       "      <th>population</th>\n",
       "      <th>gdp_per_capita</th>\n",
       "      <th>state_tax_received</th>\n",
       "    </tr>\n",
       "  </thead>\n",
       "  <tbody>\n",
       "    <tr>\n",
       "      <th>0</th>\n",
       "      <td>2016</td>\n",
       "      <td>2.113059e+11</td>\n",
       "      <td>4093271.0</td>\n",
       "      <td>51622.748653</td>\n",
       "      <td>60154432</td>\n",
       "    </tr>\n",
       "    <tr>\n",
       "      <th>1</th>\n",
       "      <td>2017</td>\n",
       "      <td>2.226138e+11</td>\n",
       "      <td>4147294.0</td>\n",
       "      <td>53676.879430</td>\n",
       "      <td>68646246</td>\n",
       "    </tr>\n",
       "    <tr>\n",
       "      <th>2</th>\n",
       "      <td>2018</td>\n",
       "      <td>2.370660e+11</td>\n",
       "      <td>4183538.0</td>\n",
       "      <td>56666.390983</td>\n",
       "      <td>94226985</td>\n",
       "    </tr>\n",
       "    <tr>\n",
       "      <th>3</th>\n",
       "      <td>2019</td>\n",
       "      <td>2.466471e+11</td>\n",
       "      <td>4216116.0</td>\n",
       "      <td>58501.023217</td>\n",
       "      <td>115915277</td>\n",
       "    </tr>\n",
       "    <tr>\n",
       "      <th>4</th>\n",
       "      <td>2020</td>\n",
       "      <td>2.437768e+11</td>\n",
       "      <td>4241544.0</td>\n",
       "      <td>57473.599237</td>\n",
       "      <td>158336274</td>\n",
       "    </tr>\n",
       "    <tr>\n",
       "      <th>5</th>\n",
       "      <td>2021</td>\n",
       "      <td>2.669431e+11</td>\n",
       "      <td>4246155.0</td>\n",
       "      <td>62867.017337</td>\n",
       "      <td>177773943</td>\n",
       "    </tr>\n",
       "  </tbody>\n",
       "</table>\n",
       "</div>"
      ],
      "text/plain": [
       "   year           gdp  population  gdp_per_capita  state_tax_received\n",
       "0  2016  2.113059e+11   4093271.0    51622.748653            60154432\n",
       "1  2017  2.226138e+11   4147294.0    53676.879430            68646246\n",
       "2  2018  2.370660e+11   4183538.0    56666.390983            94226985\n",
       "3  2019  2.466471e+11   4216116.0    58501.023217           115915277\n",
       "4  2020  2.437768e+11   4241544.0    57473.599237           158336274\n",
       "5  2021  2.669431e+11   4246155.0    62867.017337           177773943"
      ]
     },
     "execution_count": 35,
     "metadata": {},
     "output_type": "execute_result"
    }
   ],
   "source": [
    "merged_df = merged_df.join(mj_tax_revenue)\n",
    "merged_df"
   ]
  },
  {
   "cell_type": "code",
   "execution_count": 36,
   "id": "09085a5c",
   "metadata": {},
   "outputs": [],
   "source": [
    "or_plot_df = merged_df.drop(columns=[\"gdp\",\"population\"])"
   ]
  },
  {
   "cell_type": "code",
   "execution_count": 37,
   "id": "2c973fba",
   "metadata": {},
   "outputs": [],
   "source": [
    "or_plot_df = or_plot_df.rename(columns = {\"state_tax_received\":\"mj_tax_revenue\"})"
   ]
  },
  {
   "cell_type": "code",
   "execution_count": 38,
   "id": "03f6f307",
   "metadata": {},
   "outputs": [],
   "source": [
    "# or_plot_df.info()"
   ]
  },
  {
   "cell_type": "markdown",
   "id": "1c9e6ecd",
   "metadata": {},
   "source": [
    "## Plotting data"
   ]
  },
  {
   "cell_type": "code",
   "execution_count": 39,
   "id": "14be9592",
   "metadata": {},
   "outputs": [
    {
     "data": {
      "text/plain": [
       "<AxesSubplot:xlabel='mj_tax_revenue', ylabel='gdp_per_capita'>"
      ]
     },
     "execution_count": 39,
     "metadata": {},
     "output_type": "execute_result"
    },
    {
     "data": {
      "image/png": "[encoded data removed]",
      "text/plain": [
       "<Figure size 432x288 with 1 Axes>"
      ]
     },
     "metadata": {
      "needs_background": "light"
     },
     "output_type": "display_data"
    }
   ],
   "source": [
    "or_plot_df.plot.scatter(y=\"gdp_per_capita\", x=\"mj_tax_revenue\") "
   ]
  },
  {
   "cell_type": "markdown",
   "id": "ff9d5470",
   "metadata": {},
   "source": [
    "## Checking correlation"
   ]
  },
  {
   "cell_type": "code",
   "execution_count": 40,
   "id": "3ffa5414",
   "metadata": {},
   "outputs": [],
   "source": [
    "import scipy.stats as stats"
   ]
  },
  {
   "cell_type": "code",
   "execution_count": 41,
   "id": "6d0c2523",
   "metadata": {},
   "outputs": [
    {
     "data": {
      "text/html": [
       "<div>\n",
       "<style scoped>\n",
       "    .dataframe tbody tr th:only-of-type {\n",
       "        vertical-align: middle;\n",
       "    }\n",
       "\n",
       "    .dataframe tbody tr th {\n",
       "        vertical-align: top;\n",
       "    }\n",
       "\n",
       "    .dataframe thead th {\n",
       "        text-align: right;\n",
       "    }\n",
       "</style>\n",
       "<table border=\"1\" class=\"dataframe\">\n",
       "  <thead>\n",
       "    <tr style=\"text-align: right;\">\n",
       "      <th></th>\n",
       "      <th>year</th>\n",
       "      <th>gdp_per_capita</th>\n",
       "      <th>mj_tax_revenue</th>\n",
       "    </tr>\n",
       "  </thead>\n",
       "  <tbody>\n",
       "    <tr>\n",
       "      <th>year</th>\n",
       "      <td>1.000000</td>\n",
       "      <td>0.947572</td>\n",
       "      <td>0.985100</td>\n",
       "    </tr>\n",
       "    <tr>\n",
       "      <th>gdp_per_capita</th>\n",
       "      <td>0.947572</td>\n",
       "      <td>1.000000</td>\n",
       "      <td>0.902629</td>\n",
       "    </tr>\n",
       "    <tr>\n",
       "      <th>mj_tax_revenue</th>\n",
       "      <td>0.985100</td>\n",
       "      <td>0.902629</td>\n",
       "      <td>1.000000</td>\n",
       "    </tr>\n",
       "  </tbody>\n",
       "</table>\n",
       "</div>"
      ],
      "text/plain": [
       "                    year  gdp_per_capita  mj_tax_revenue\n",
       "year            1.000000        0.947572        0.985100\n",
       "gdp_per_capita  0.947572        1.000000        0.902629\n",
       "mj_tax_revenue  0.985100        0.902629        1.000000"
      ]
     },
     "execution_count": 41,
     "metadata": {},
     "output_type": "execute_result"
    }
   ],
   "source": [
    "or_plot_df.corr()"
   ]
  },
  {
   "cell_type": "markdown",
   "id": "a3da6207",
   "metadata": {},
   "source": [
    "#### 1. r: Pearson’s correlation coefficient\n",
    "#### 2. p-value: long-tailed p-value"
   ]
  },
  {
   "cell_type": "code",
   "execution_count": 42,
   "id": "85681751",
   "metadata": {},
   "outputs": [
    {
     "data": {
      "text/plain": [
       "(0.9026290069658307, 0.013760072864958185)"
      ]
     },
     "execution_count": 42,
     "metadata": {},
     "output_type": "execute_result"
    }
   ],
   "source": [
    "stats.pearsonr(or_plot_df['gdp_per_capita'], or_plot_df['mj_tax_revenue'])"
   ]
  },
  {
   "cell_type": "markdown",
   "id": "f54f28aa",
   "metadata": {},
   "source": [
    "## Differences"
   ]
  },
  {
   "cell_type": "code",
   "execution_count": 43,
   "id": "e16e056c",
   "metadata": {},
   "outputs": [
    {
     "data": {
      "text/html": [
       "<div>\n",
       "<style scoped>\n",
       "    .dataframe tbody tr th:only-of-type {\n",
       "        vertical-align: middle;\n",
       "    }\n",
       "\n",
       "    .dataframe tbody tr th {\n",
       "        vertical-align: top;\n",
       "    }\n",
       "\n",
       "    .dataframe thead th {\n",
       "        text-align: right;\n",
       "    }\n",
       "</style>\n",
       "<table border=\"1\" class=\"dataframe\">\n",
       "  <thead>\n",
       "    <tr style=\"text-align: right;\">\n",
       "      <th></th>\n",
       "      <th>year</th>\n",
       "      <th>gdp_per_capita</th>\n",
       "      <th>mj_tax_revenue</th>\n",
       "    </tr>\n",
       "  </thead>\n",
       "  <tbody>\n",
       "    <tr>\n",
       "      <th>0</th>\n",
       "      <td>NaN</td>\n",
       "      <td>NaN</td>\n",
       "      <td>NaN</td>\n",
       "    </tr>\n",
       "    <tr>\n",
       "      <th>1</th>\n",
       "      <td>1.0</td>\n",
       "      <td>2054.130778</td>\n",
       "      <td>8491814.0</td>\n",
       "    </tr>\n",
       "    <tr>\n",
       "      <th>2</th>\n",
       "      <td>1.0</td>\n",
       "      <td>2989.511553</td>\n",
       "      <td>25580739.0</td>\n",
       "    </tr>\n",
       "    <tr>\n",
       "      <th>3</th>\n",
       "      <td>1.0</td>\n",
       "      <td>1834.632234</td>\n",
       "      <td>21688292.0</td>\n",
       "    </tr>\n",
       "    <tr>\n",
       "      <th>4</th>\n",
       "      <td>1.0</td>\n",
       "      <td>-1027.423980</td>\n",
       "      <td>42420997.0</td>\n",
       "    </tr>\n",
       "    <tr>\n",
       "      <th>5</th>\n",
       "      <td>1.0</td>\n",
       "      <td>5393.418100</td>\n",
       "      <td>19437669.0</td>\n",
       "    </tr>\n",
       "  </tbody>\n",
       "</table>\n",
       "</div>"
      ],
      "text/plain": [
       "   year  gdp_per_capita  mj_tax_revenue\n",
       "0   NaN             NaN             NaN\n",
       "1   1.0     2054.130778       8491814.0\n",
       "2   1.0     2989.511553      25580739.0\n",
       "3   1.0     1834.632234      21688292.0\n",
       "4   1.0    -1027.423980      42420997.0\n",
       "5   1.0     5393.418100      19437669.0"
      ]
     },
     "execution_count": 43,
     "metadata": {},
     "output_type": "execute_result"
    }
   ],
   "source": [
    "diff_df = or_plot_df.diff()\n",
    "diff_df"
   ]
  },
  {
   "cell_type": "code",
   "execution_count": 44,
   "id": "a357b882",
   "metadata": {},
   "outputs": [],
   "source": [
    "diff_df = diff_df.dropna()"
   ]
  },
  {
   "cell_type": "code",
   "execution_count": 45,
   "id": "a5050c7f",
   "metadata": {},
   "outputs": [
    {
     "data": {
      "text/plain": [
       "<AxesSubplot:xlabel='mj_tax_revenue', ylabel='gdp_per_capita'>"
      ]
     },
     "execution_count": 45,
     "metadata": {},
     "output_type": "execute_result"
    },
    {
     "data": {
      "image/png": "[encoded data removed]",
      "text/plain": [
       "<Figure size 432x288 with 1 Axes>"
      ]
     },
     "metadata": {
      "needs_background": "light"
     },
     "output_type": "display_data"
    }
   ],
   "source": [
    "diff_df.plot.scatter(y=\"gdp_per_capita\", x=\"mj_tax_revenue\") "
   ]
  },
  {
   "cell_type": "code",
   "execution_count": 46,
   "id": "c72531e2",
   "metadata": {},
   "outputs": [
    {
     "data": {
      "text/plain": [
       "(-0.6103382104122564, 0.27427805731087096)"
      ]
     },
     "execution_count": 46,
     "metadata": {},
     "output_type": "execute_result"
    }
   ],
   "source": [
    "stats.pearsonr(diff_df['gdp_per_capita'], diff_df['mj_tax_revenue'])"
   ]
  },
  {
   "cell_type": "markdown",
   "id": "3ba5cc53",
   "metadata": {},
   "source": [
    "## Linear Regression"
   ]
  },
  {
   "cell_type": "code",
   "execution_count": 47,
   "id": "0a0500ce",
   "metadata": {},
   "outputs": [],
   "source": [
    "import statsmodels.formula.api as smf"
   ]
  },
  {
   "cell_type": "code",
   "execution_count": 48,
   "id": "3762f641",
   "metadata": {},
   "outputs": [
    {
     "name": "stderr",
     "output_type": "stream",
     "text": [
      "/Users/jonathanho/opt/anaconda3/envs/VirtEnv/lib/python3.7/site-packages/statsmodels/stats/stattools.py:75: ValueWarning: omni_normtest is not valid with less than 8 observations; 6 samples were given.\n",
      "  \"samples were given.\" % int(n), ValueWarning)\n"
     ]
    },
    {
     "data": {
      "text/html": [
       "<table class=\"simpletable\">\n",
       "<caption>OLS Regression Results</caption>\n",
       "<tr>\n",
       "  <th>Dep. Variable:</th>     <td>gdp_per_capita</td>  <th>  R-squared:         </th> <td>   0.815</td>\n",
       "</tr>\n",
       "<tr>\n",
       "  <th>Model:</th>                   <td>OLS</td>       <th>  Adj. R-squared:    </th> <td>   0.768</td>\n",
       "</tr>\n",
       "<tr>\n",
       "  <th>Method:</th>             <td>Least Squares</td>  <th>  F-statistic:       </th> <td>   17.59</td>\n",
       "</tr>\n",
       "<tr>\n",
       "  <th>Date:</th>             <td>Wed, 06 Jul 2022</td> <th>  Prob (F-statistic):</th>  <td>0.0138</td> \n",
       "</tr>\n",
       "<tr>\n",
       "  <th>Time:</th>                 <td>15:26:19</td>     <th>  Log-Likelihood:    </th> <td> -52.548</td>\n",
       "</tr>\n",
       "<tr>\n",
       "  <th>No. Observations:</th>      <td>     6</td>      <th>  AIC:               </th> <td>   109.1</td>\n",
       "</tr>\n",
       "<tr>\n",
       "  <th>Df Residuals:</th>          <td>     4</td>      <th>  BIC:               </th> <td>   108.7</td>\n",
       "</tr>\n",
       "<tr>\n",
       "  <th>Df Model:</th>              <td>     1</td>      <th>                     </th>     <td> </td>   \n",
       "</tr>\n",
       "<tr>\n",
       "  <th>Covariance Type:</th>      <td>nonrobust</td>    <th>                     </th>     <td> </td>   \n",
       "</tr>\n",
       "</table>\n",
       "<table class=\"simpletable\">\n",
       "<tr>\n",
       "         <td></td>           <th>coef</th>     <th>std err</th>      <th>t</th>      <th>P>|t|</th>  <th>[0.025</th>    <th>0.975]</th>  \n",
       "</tr>\n",
       "<tr>\n",
       "  <th>Intercept</th>      <td> 4.846e+04</td> <td> 2132.757</td> <td>   22.721</td> <td> 0.000</td> <td> 4.25e+04</td> <td> 5.44e+04</td>\n",
       "</tr>\n",
       "<tr>\n",
       "  <th>mj_tax_revenue</th> <td> 7.415e-05</td> <td> 1.77e-05</td> <td>    4.194</td> <td> 0.014</td> <td> 2.51e-05</td> <td>    0.000</td>\n",
       "</tr>\n",
       "</table>\n",
       "<table class=\"simpletable\">\n",
       "<tr>\n",
       "  <th>Omnibus:</th>       <td>   nan</td> <th>  Durbin-Watson:     </th> <td>   2.554</td>\n",
       "</tr>\n",
       "<tr>\n",
       "  <th>Prob(Omnibus):</th> <td>   nan</td> <th>  Jarque-Bera (JB):  </th> <td>   0.774</td>\n",
       "</tr>\n",
       "<tr>\n",
       "  <th>Skew:</th>          <td>-0.719</td> <th>  Prob(JB):          </th> <td>   0.679</td>\n",
       "</tr>\n",
       "<tr>\n",
       "  <th>Kurtosis:</th>      <td> 1.986</td> <th>  Cond. No.          </th> <td>3.34e+08</td>\n",
       "</tr>\n",
       "</table><br/><br/>Notes:<br/>[1] Standard Errors assume that the covariance matrix of the errors is correctly specified.<br/>[2] The condition number is large, 3.34e+08. This might indicate that there are<br/>strong multicollinearity or other numerical problems."
      ],
      "text/plain": [
       "<class 'statsmodels.iolib.summary.Summary'>\n",
       "\"\"\"\n",
       "                            OLS Regression Results                            \n",
       "==============================================================================\n",
       "Dep. Variable:         gdp_per_capita   R-squared:                       0.815\n",
       "Model:                            OLS   Adj. R-squared:                  0.768\n",
       "Method:                 Least Squares   F-statistic:                     17.59\n",
       "Date:                Wed, 06 Jul 2022   Prob (F-statistic):             0.0138\n",
       "Time:                        15:26:19   Log-Likelihood:                -52.548\n",
       "No. Observations:                   6   AIC:                             109.1\n",
       "Df Residuals:                       4   BIC:                             108.7\n",
       "Df Model:                           1                                         \n",
       "Covariance Type:            nonrobust                                         \n",
       "==================================================================================\n",
       "                     coef    std err          t      P>|t|      [0.025      0.975]\n",
       "----------------------------------------------------------------------------------\n",
       "Intercept       4.846e+04   2132.757     22.721      0.000    4.25e+04    5.44e+04\n",
       "mj_tax_revenue  7.415e-05   1.77e-05      4.194      0.014    2.51e-05       0.000\n",
       "==============================================================================\n",
       "Omnibus:                          nan   Durbin-Watson:                   2.554\n",
       "Prob(Omnibus):                    nan   Jarque-Bera (JB):                0.774\n",
       "Skew:                          -0.719   Prob(JB):                        0.679\n",
       "Kurtosis:                       1.986   Cond. No.                     3.34e+08\n",
       "==============================================================================\n",
       "\n",
       "Notes:\n",
       "[1] Standard Errors assume that the covariance matrix of the errors is correctly specified.\n",
       "[2] The condition number is large, 3.34e+08. This might indicate that there are\n",
       "strong multicollinearity or other numerical problems.\n",
       "\"\"\""
      ]
     },
     "execution_count": 48,
     "metadata": {},
     "output_type": "execute_result"
    }
   ],
   "source": [
    "res2 = smf.ols(formula=\"gdp_per_capita ~ mj_tax_revenue\", data=or_plot_df).fit() \n",
    "res2.summary()"
   ]
  },
  {
   "cell_type": "markdown",
   "id": "76c1e843",
   "metadata": {},
   "source": [
    "## Difference Linear Regression"
   ]
  },
  {
   "cell_type": "code",
   "execution_count": 49,
   "id": "75f0d27d",
   "metadata": {},
   "outputs": [
    {
     "name": "stderr",
     "output_type": "stream",
     "text": [
      "/Users/jonathanho/opt/anaconda3/envs/VirtEnv/lib/python3.7/site-packages/statsmodels/stats/stattools.py:75: ValueWarning: omni_normtest is not valid with less than 8 observations; 5 samples were given.\n",
      "  \"samples were given.\" % int(n), ValueWarning)\n"
     ]
    },
    {
     "data": {
      "text/html": [
       "<table class=\"simpletable\">\n",
       "<caption>OLS Regression Results</caption>\n",
       "<tr>\n",
       "  <th>Dep. Variable:</th>     <td>gdp_per_capita</td>  <th>  R-squared:         </th> <td>   0.373</td>\n",
       "</tr>\n",
       "<tr>\n",
       "  <th>Model:</th>                   <td>OLS</td>       <th>  Adj. R-squared:    </th> <td>   0.163</td>\n",
       "</tr>\n",
       "<tr>\n",
       "  <th>Method:</th>             <td>Least Squares</td>  <th>  F-statistic:       </th> <td>   1.781</td>\n",
       "</tr>\n",
       "<tr>\n",
       "  <th>Date:</th>             <td>Wed, 06 Jul 2022</td> <th>  Prob (F-statistic):</th>  <td> 0.274</td> \n",
       "</tr>\n",
       "<tr>\n",
       "  <th>Time:</th>                 <td>15:26:19</td>     <th>  Log-Likelihood:    </th> <td> -44.101</td>\n",
       "</tr>\n",
       "<tr>\n",
       "  <th>No. Observations:</th>      <td>     5</td>      <th>  AIC:               </th> <td>   92.20</td>\n",
       "</tr>\n",
       "<tr>\n",
       "  <th>Df Residuals:</th>          <td>     3</td>      <th>  BIC:               </th> <td>   91.42</td>\n",
       "</tr>\n",
       "<tr>\n",
       "  <th>Df Model:</th>              <td>     1</td>      <th>                     </th>     <td> </td>   \n",
       "</tr>\n",
       "<tr>\n",
       "  <th>Covariance Type:</th>      <td>nonrobust</td>    <th>                     </th>     <td> </td>   \n",
       "</tr>\n",
       "</table>\n",
       "<table class=\"simpletable\">\n",
       "<tr>\n",
       "         <td></td>           <th>coef</th>     <th>std err</th>      <th>t</th>      <th>P>|t|</th>  <th>[0.025</th>    <th>0.975]</th>  \n",
       "</tr>\n",
       "<tr>\n",
       "  <th>Intercept</th>      <td> 4942.6442</td> <td> 2229.093</td> <td>    2.217</td> <td> 0.113</td> <td>-2151.324</td> <td>  1.2e+04</td>\n",
       "</tr>\n",
       "<tr>\n",
       "  <th>mj_tax_revenue</th> <td>   -0.0001</td> <td> 8.58e-05</td> <td>   -1.335</td> <td> 0.274</td> <td>   -0.000</td> <td>    0.000</td>\n",
       "</tr>\n",
       "</table>\n",
       "<table class=\"simpletable\">\n",
       "<tr>\n",
       "  <th>Omnibus:</th>       <td>   nan</td> <th>  Durbin-Watson:     </th> <td>   1.902</td>\n",
       "</tr>\n",
       "<tr>\n",
       "  <th>Prob(Omnibus):</th> <td>   nan</td> <th>  Jarque-Bera (JB):  </th> <td>   0.491</td>\n",
       "</tr>\n",
       "<tr>\n",
       "  <th>Skew:</th>          <td> 0.521</td> <th>  Prob(JB):          </th> <td>   0.782</td>\n",
       "</tr>\n",
       "<tr>\n",
       "  <th>Kurtosis:</th>      <td> 1.872</td> <th>  Cond. No.          </th> <td>6.12e+07</td>\n",
       "</tr>\n",
       "</table><br/><br/>Notes:<br/>[1] Standard Errors assume that the covariance matrix of the errors is correctly specified.<br/>[2] The condition number is large, 6.12e+07. This might indicate that there are<br/>strong multicollinearity or other numerical problems."
      ],
      "text/plain": [
       "<class 'statsmodels.iolib.summary.Summary'>\n",
       "\"\"\"\n",
       "                            OLS Regression Results                            \n",
       "==============================================================================\n",
       "Dep. Variable:         gdp_per_capita   R-squared:                       0.373\n",
       "Model:                            OLS   Adj. R-squared:                  0.163\n",
       "Method:                 Least Squares   F-statistic:                     1.781\n",
       "Date:                Wed, 06 Jul 2022   Prob (F-statistic):              0.274\n",
       "Time:                        15:26:19   Log-Likelihood:                -44.101\n",
       "No. Observations:                   5   AIC:                             92.20\n",
       "Df Residuals:                       3   BIC:                             91.42\n",
       "Df Model:                           1                                         \n",
       "Covariance Type:            nonrobust                                         \n",
       "==================================================================================\n",
       "                     coef    std err          t      P>|t|      [0.025      0.975]\n",
       "----------------------------------------------------------------------------------\n",
       "Intercept       4942.6442   2229.093      2.217      0.113   -2151.324     1.2e+04\n",
       "mj_tax_revenue    -0.0001   8.58e-05     -1.335      0.274      -0.000       0.000\n",
       "==============================================================================\n",
       "Omnibus:                          nan   Durbin-Watson:                   1.902\n",
       "Prob(Omnibus):                    nan   Jarque-Bera (JB):                0.491\n",
       "Skew:                           0.521   Prob(JB):                        0.782\n",
       "Kurtosis:                       1.872   Cond. No.                     6.12e+07\n",
       "==============================================================================\n",
       "\n",
       "Notes:\n",
       "[1] Standard Errors assume that the covariance matrix of the errors is correctly specified.\n",
       "[2] The condition number is large, 6.12e+07. This might indicate that there are\n",
       "strong multicollinearity or other numerical problems.\n",
       "\"\"\""
      ]
     },
     "execution_count": 49,
     "metadata": {},
     "output_type": "execute_result"
    }
   ],
   "source": [
    "res = smf.ols(formula=\"gdp_per_capita ~ mj_tax_revenue\", data=diff_df).fit() \n",
    "res.summary()"
   ]
  },
  {
   "cell_type": "markdown",
   "id": "df8e1aea",
   "metadata": {},
   "source": [
    "## Not used data"
   ]
  },
  {
   "cell_type": "code",
   "execution_count": 50,
   "id": "8e58a410",
   "metadata": {},
   "outputs": [],
   "source": [
    "#df_taxes_months = df_taxes_months.drop(\"month\", axis=1)\n",
    "#df_taxes_months"
   ]
  },
  {
   "cell_type": "code",
   "execution_count": 51,
   "id": "71b759aa",
   "metadata": {},
   "outputs": [],
   "source": [
    "#from sklearn import preprocessing\n",
    "#scaler = preprocessing.MinMaxScaler()\n",
    "#names = df_taxes_months.columns\n",
    "#d = scaler.fit_transform(df_taxes_months)\n",
    "#scaled_df = pd.DataFrame(d, columns=names)\n",
    "#scaled_df"
   ]
  }
 ],
 "metadata": {
  "kernelspec": {
   "display_name": "Python 3 (ipykernel)",
   "language": "python",
   "name": "python3"
  },
  "language_info": {
   "codemirror_mode": {
    "name": "ipython",
    "version": 3
   },
   "file_extension": ".py",
   "mimetype": "text/x-python",
   "name": "python",
   "nbconvert_exporter": "python",
   "pygments_lexer": "ipython3",
   "version": "3.7.13"
  }
 },
 "nbformat": 4,
 "nbformat_minor": 5
}
