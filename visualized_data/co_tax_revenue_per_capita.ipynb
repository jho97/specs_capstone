{
 "cells": [
  {
   "cell_type": "markdown",
   "id": "dfeed8ca",
   "metadata": {},
   "source": [
    "# Tax Revenue Per Capita"
   ]
  },
  {
   "cell_type": "code",
   "execution_count": 1,
   "id": "180f25d9",
   "metadata": {},
   "outputs": [],
   "source": [
    "import pandas as pd\n",
    "import numpy as np \n",
    "import plotly.express as px"
   ]
  },
  {
   "cell_type": "code",
   "execution_count": 2,
   "id": "f4e13428",
   "metadata": {
    "scrolled": true
   },
   "outputs": [],
   "source": [
    "pd.set_option('display.max_columns', None)\n",
    "pd.set_option('display.max_rows', None)\n",
    "co_df = pd.read_csv(\"../state_tax_collection/co_tax_collection.csv\")"
   ]
  },
  {
   "cell_type": "code",
   "execution_count": 3,
   "id": "d48f7303",
   "metadata": {},
   "outputs": [],
   "source": [
    "co_df = co_df.iloc[80:]"
   ]
  },
  {
   "cell_type": "code",
   "execution_count": 4,
   "id": "c21dd1f5",
   "metadata": {},
   "outputs": [],
   "source": [
    "revenue_values = co_df[\"dollars (millions)\"].tolist()"
   ]
  },
  {
   "cell_type": "code",
   "execution_count": 5,
   "id": "ecdc1161",
   "metadata": {},
   "outputs": [],
   "source": [
    "def get_total():\n",
    "    years_totals = []\n",
    "    quarter_1 = 0\n",
    "    quarter_2 = 1\n",
    "    quarter_3 = 2\n",
    "    quarter_4 =3\n",
    "    count = 1\n",
    "    while count <= 8:  \n",
    "        total = revenue_values[quarter_1] + revenue_values[quarter_2] + revenue_values[quarter_3] + revenue_values[quarter_4]\n",
    "        years_totals.append(total)\n",
    "        \n",
    "        quarter_1 += 4\n",
    "        quarter_2 += 4\n",
    "        quarter_3 += 4\n",
    "        quarter_4 += 4\n",
    "        count += 1\n",
    "    return years_totals"
   ]
  },
  {
   "cell_type": "code",
   "execution_count": 6,
   "id": "6b6742c4",
   "metadata": {},
   "outputs": [],
   "source": [
    "totals = get_total()"
   ]
  },
  {
   "cell_type": "code",
   "execution_count": 7,
   "id": "63c39236",
   "metadata": {},
   "outputs": [],
   "source": [
    "data = {\"year\": [2014, 2015, 2016, 2017, 2018, 2019, 2020, 2021],\n",
    "       \"tax_revenue\": totals}\n",
    "co_tax_year = pd.DataFrame(data)"
   ]
  },
  {
   "cell_type": "markdown",
   "id": "e543647e",
   "metadata": {},
   "source": [
    "## converting the millions unit"
   ]
  },
  {
   "cell_type": "code",
   "execution_count": 8,
   "id": "75a48d18",
   "metadata": {},
   "outputs": [],
   "source": [
    "tax = co_tax_year[\"tax_revenue\"].tolist()"
   ]
  },
  {
   "cell_type": "code",
   "execution_count": 9,
   "id": "fd7674b2",
   "metadata": {},
   "outputs": [],
   "source": [
    "def actual_total():\n",
    "    tax_total = []\n",
    "    value = 0\n",
    "    count = 1 \n",
    "    while count <= 8:\n",
    "        total = tax[value]*1000000\n",
    "        tax_total.append(total)\n",
    "        value += 1\n",
    "        count += 1\n",
    "    return tax_total"
   ]
  },
  {
   "cell_type": "code",
   "execution_count": 10,
   "id": "bd45c009",
   "metadata": {},
   "outputs": [],
   "source": [
    "act_tax = actual_total()"
   ]
  },
  {
   "cell_type": "code",
   "execution_count": 11,
   "id": "0aae4fb0",
   "metadata": {},
   "outputs": [],
   "source": [
    "data = {\"year\": [2014, 2015, 2016, 2017, 2018, 2019, 2020, 2021],\n",
    "       \"tax_revenue\": act_tax}\n",
    "co_tax_year = pd.DataFrame(data)"
   ]
  },
  {
   "cell_type": "markdown",
   "id": "bd7c1ee2",
   "metadata": {},
   "source": [
    "## colorado population"
   ]
  },
  {
   "cell_type": "code",
   "execution_count": 12,
   "id": "d7453b7f",
   "metadata": {},
   "outputs": [],
   "source": [
    "pop_df = pd.read_csv(\"../state_pop/colorado_pop_cleaned.csv\")\n",
    "pop_df = pop_df.iloc[114:]"
   ]
  },
  {
   "cell_type": "code",
   "execution_count": 13,
   "id": "290249e9",
   "metadata": {},
   "outputs": [],
   "source": [
    "colorado_pop = pop_df[\"colorado_pop\"].tolist()"
   ]
  },
  {
   "cell_type": "code",
   "execution_count": 14,
   "id": "574a666f",
   "metadata": {},
   "outputs": [],
   "source": [
    "def actual_pop():\n",
    "    pop_total = []\n",
    "    value = 0\n",
    "    count = 1 \n",
    "    while count <= 8:\n",
    "        total = colorado_pop[value]*1000\n",
    "        pop_total.append(total)\n",
    "        value += 1\n",
    "        count += 1\n",
    "    return pop_total"
   ]
  },
  {
   "cell_type": "code",
   "execution_count": 15,
   "id": "c5394176",
   "metadata": {},
   "outputs": [],
   "source": [
    "act_pop = actual_pop()"
   ]
  },
  {
   "cell_type": "code",
   "execution_count": 16,
   "id": "01fa480b",
   "metadata": {},
   "outputs": [],
   "source": [
    "data = {\"year\": [2014, 2015, 2016, 2017, 2018, 2019, 2020, 2021],\n",
    "       \"population\": act_pop}\n",
    "co_pop_year = pd.DataFrame(data)"
   ]
  },
  {
   "cell_type": "markdown",
   "id": "c1439c7e",
   "metadata": {},
   "source": [
    "## Merging both ds"
   ]
  },
  {
   "cell_type": "code",
   "execution_count": 17,
   "id": "b00a6ef2",
   "metadata": {
    "scrolled": true
   },
   "outputs": [],
   "source": [
    "merged_df = pd.merge(co_tax_year, co_pop_year, how=\"outer\", on=[\"year\"])\n",
    "# merged_df"
   ]
  },
  {
   "cell_type": "markdown",
   "id": "7557d529",
   "metadata": {},
   "source": [
    "## Finding tax revenue per capita"
   ]
  },
  {
   "cell_type": "code",
   "execution_count": 18,
   "id": "d20dbf0c",
   "metadata": {},
   "outputs": [],
   "source": [
    "population_list = merged_df.population.to_list()\n",
    "\n",
    "tax_list = merged_df.tax_revenue.to_list()\n",
    "\n",
    "per_capita_list = []\n",
    "\n",
    "#function to divide tax revenue by population\n",
    "\n",
    "def per_capita():\n",
    "\n",
    "    for population, tax_revenue in zip(population_list, tax_list):\n",
    "\n",
    "        per_capita_list.append((tax_revenue/population))\n",
    "        \n",
    "    return per_capita_list"
   ]
  },
  {
   "cell_type": "code",
   "execution_count": 19,
   "id": "55fd6730",
   "metadata": {},
   "outputs": [],
   "source": [
    "per_capita_list = per_capita()"
   ]
  },
  {
   "cell_type": "code",
   "execution_count": 20,
   "id": "5249d311",
   "metadata": {},
   "outputs": [],
   "source": [
    "capita_data = {\"tax_per_capita\": per_capita_list}\n",
    "capita_column = pd.DataFrame(capita_data)"
   ]
  },
  {
   "cell_type": "code",
   "execution_count": 21,
   "id": "a1ab443d",
   "metadata": {},
   "outputs": [],
   "source": [
    "merged_df.insert(3, \"tax_per_capita\", capita_column, True)"
   ]
  },
  {
   "cell_type": "code",
   "execution_count": 22,
   "id": "073a0920",
   "metadata": {},
   "outputs": [],
   "source": [
    "merged_df = pd.DataFrame(merged_df)"
   ]
  },
  {
   "cell_type": "markdown",
   "id": "6d7147b5",
   "metadata": {},
   "source": [
    "## MJ tax revenue"
   ]
  },
  {
   "cell_type": "code",
   "execution_count": 23,
   "id": "174e59f3",
   "metadata": {},
   "outputs": [],
   "source": [
    "co_mj_tax = pd.read_csv(\"../marijuana_tax/colorado_marijuana_cleaned.csv\")\n",
    "co_mj_tax = pd.DataFrame(co_mj_tax)"
   ]
  },
  {
   "cell_type": "code",
   "execution_count": 24,
   "id": "c6f5fe81",
   "metadata": {},
   "outputs": [],
   "source": [
    "co_mj_tax = co_mj_tax.loc[{12, 25, 38, 51, 64, 77, 90, 103}]"
   ]
  },
  {
   "cell_type": "code",
   "execution_count": 25,
   "id": "2febe8e9",
   "metadata": {},
   "outputs": [],
   "source": [
    "co_mj_tax = co_mj_tax.sort_index()"
   ]
  },
  {
   "cell_type": "code",
   "execution_count": 26,
   "id": "384950a3",
   "metadata": {},
   "outputs": [],
   "source": [
    "co_mj_tax = pd.DataFrame(co_mj_tax)\n",
    "co_mj_tax = co_mj_tax.reset_index()"
   ]
  },
  {
   "cell_type": "code",
   "execution_count": 27,
   "id": "d396115f",
   "metadata": {},
   "outputs": [],
   "source": [
    "mj_tax_revenue = co_mj_tax[\"total_taxes_and_fees\"]"
   ]
  },
  {
   "cell_type": "markdown",
   "id": "a863d64f",
   "metadata": {},
   "source": [
    "## Merging DS"
   ]
  },
  {
   "cell_type": "code",
   "execution_count": 28,
   "id": "ecd9638e",
   "metadata": {},
   "outputs": [
    {
     "data": {
      "text/html": [
       "<div>\n",
       "<style scoped>\n",
       "    .dataframe tbody tr th:only-of-type {\n",
       "        vertical-align: middle;\n",
       "    }\n",
       "\n",
       "    .dataframe tbody tr th {\n",
       "        vertical-align: top;\n",
       "    }\n",
       "\n",
       "    .dataframe thead th {\n",
       "        text-align: right;\n",
       "    }\n",
       "</style>\n",
       "<table border=\"1\" class=\"dataframe\">\n",
       "  <thead>\n",
       "    <tr style=\"text-align: right;\">\n",
       "      <th></th>\n",
       "      <th>year</th>\n",
       "      <th>tax_revenue</th>\n",
       "      <th>population</th>\n",
       "      <th>tax_per_capita</th>\n",
       "      <th>total_taxes_and_fees</th>\n",
       "    </tr>\n",
       "  </thead>\n",
       "  <tbody>\n",
       "    <tr>\n",
       "      <th>0</th>\n",
       "      <td>2014</td>\n",
       "      <td>12333000000</td>\n",
       "      <td>5352637.0</td>\n",
       "      <td>2304.097961</td>\n",
       "      <td>$67,594,323</td>\n",
       "    </tr>\n",
       "    <tr>\n",
       "      <th>1</th>\n",
       "      <td>2015</td>\n",
       "      <td>12927000000</td>\n",
       "      <td>5454328.0</td>\n",
       "      <td>2370.044486</td>\n",
       "      <td>$130,411,173</td>\n",
       "    </tr>\n",
       "    <tr>\n",
       "      <th>2</th>\n",
       "      <td>2016</td>\n",
       "      <td>12931000000</td>\n",
       "      <td>5543844.0</td>\n",
       "      <td>2332.497090</td>\n",
       "      <td>$193,604,810</td>\n",
       "    </tr>\n",
       "    <tr>\n",
       "      <th>3</th>\n",
       "      <td>2017</td>\n",
       "      <td>13850000000</td>\n",
       "      <td>5617421.0</td>\n",
       "      <td>2465.544242</td>\n",
       "      <td>$247,368,473</td>\n",
       "    </tr>\n",
       "    <tr>\n",
       "      <th>4</th>\n",
       "      <td>2018</td>\n",
       "      <td>15226000000</td>\n",
       "      <td>5697155.0</td>\n",
       "      <td>2672.562007</td>\n",
       "      <td>$266,529,637</td>\n",
       "    </tr>\n",
       "    <tr>\n",
       "      <th>5</th>\n",
       "      <td>2019</td>\n",
       "      <td>15392000000</td>\n",
       "      <td>5758486.0</td>\n",
       "      <td>2672.924793</td>\n",
       "      <td>$302,458,426</td>\n",
       "    </tr>\n",
       "    <tr>\n",
       "      <th>6</th>\n",
       "      <td>2020</td>\n",
       "      <td>15701000000</td>\n",
       "      <td>5784308.0</td>\n",
       "      <td>2714.412856</td>\n",
       "      <td>$387,480,110</td>\n",
       "    </tr>\n",
       "    <tr>\n",
       "      <th>7</th>\n",
       "      <td>2021</td>\n",
       "      <td>17931000000</td>\n",
       "      <td>5812069.0</td>\n",
       "      <td>3085.131990</td>\n",
       "      <td>$423,486,053</td>\n",
       "    </tr>\n",
       "  </tbody>\n",
       "</table>\n",
       "</div>"
      ],
      "text/plain": [
       "   year  tax_revenue  population  tax_per_capita total_taxes_and_fees\n",
       "0  2014  12333000000   5352637.0     2304.097961         $67,594,323 \n",
       "1  2015  12927000000   5454328.0     2370.044486        $130,411,173 \n",
       "2  2016  12931000000   5543844.0     2332.497090        $193,604,810 \n",
       "3  2017  13850000000   5617421.0     2465.544242        $247,368,473 \n",
       "4  2018  15226000000   5697155.0     2672.562007        $266,529,637 \n",
       "5  2019  15392000000   5758486.0     2672.924793        $302,458,426 \n",
       "6  2020  15701000000   5784308.0     2714.412856        $387,480,110 \n",
       "7  2021  17931000000   5812069.0     3085.131990        $423,486,053 "
      ]
     },
     "execution_count": 28,
     "metadata": {},
     "output_type": "execute_result"
    }
   ],
   "source": [
    "merged_df = merged_df.join(mj_tax_revenue)\n",
    "merged_df"
   ]
  },
  {
   "cell_type": "markdown",
   "id": "d3c221c3",
   "metadata": {},
   "source": [
    "## Plotting data"
   ]
  },
  {
   "cell_type": "code",
   "execution_count": 29,
   "id": "f7091032",
   "metadata": {},
   "outputs": [],
   "source": [
    "co_plot_df2 = merged_df.drop(columns=[\"tax_revenue\",\"population\"])"
   ]
  },
  {
   "cell_type": "code",
   "execution_count": 31,
   "id": "e1f928c8",
   "metadata": {},
   "outputs": [],
   "source": [
    "co_plot_df2 = co_plot_df2.rename(columns = {\"total_taxes_and_fees\":\"mj_tax_revenue\"})"
   ]
  },
  {
   "cell_type": "code",
   "execution_count": 33,
   "id": "e3ab1f6b",
   "metadata": {},
   "outputs": [],
   "source": [
    "co_plot_df2.replace({'\\$':'', '\\,':'', '\\(':'', '\\)':''}, regex = True, inplace= True)"
   ]
  },
  {
   "cell_type": "code",
   "execution_count": 35,
   "id": "05348045",
   "metadata": {},
   "outputs": [],
   "source": [
    "co_plot_df2['mj_tax_revenue'] = co_plot_df2['mj_tax_revenue'].astype(str).astype(int)"
   ]
  },
  {
   "cell_type": "code",
   "execution_count": 36,
   "id": "ecc213c7",
   "metadata": {
    "scrolled": true
   },
   "outputs": [
    {
     "data": {
      "text/plain": [
       "<AxesSubplot:xlabel='mj_tax_revenue', ylabel='tax_per_capita'>"
      ]
     },
     "execution_count": 36,
     "metadata": {},
     "output_type": "execute_result"
    },
    {
     "data": {
      "image/png": "[encoded data removed]",
      "text/plain": [
       "<Figure size 432x288 with 1 Axes>"
      ]
     },
     "metadata": {
      "needs_background": "light"
     },
     "output_type": "display_data"
    }
   ],
   "source": [
    "co_plot_df2.plot.scatter(y=\"tax_per_capita\", x=\"mj_tax_revenue\") "
   ]
  },
  {
   "cell_type": "markdown",
   "id": "c7aa66c6",
   "metadata": {},
   "source": [
    "## Checking correlation"
   ]
  },
  {
   "cell_type": "code",
   "execution_count": 40,
   "id": "7d6d2315",
   "metadata": {},
   "outputs": [],
   "source": [
    "import scipy.stats as stats"
   ]
  },
  {
   "cell_type": "code",
   "execution_count": 38,
   "id": "d7d78f1b",
   "metadata": {},
   "outputs": [
    {
     "data": {
      "text/html": [
       "<div>\n",
       "<style scoped>\n",
       "    .dataframe tbody tr th:only-of-type {\n",
       "        vertical-align: middle;\n",
       "    }\n",
       "\n",
       "    .dataframe tbody tr th {\n",
       "        vertical-align: top;\n",
       "    }\n",
       "\n",
       "    .dataframe thead th {\n",
       "        text-align: right;\n",
       "    }\n",
       "</style>\n",
       "<table border=\"1\" class=\"dataframe\">\n",
       "  <thead>\n",
       "    <tr style=\"text-align: right;\">\n",
       "      <th></th>\n",
       "      <th>year</th>\n",
       "      <th>tax_per_capita</th>\n",
       "      <th>mj_tax_revenue</th>\n",
       "    </tr>\n",
       "  </thead>\n",
       "  <tbody>\n",
       "    <tr>\n",
       "      <th>year</th>\n",
       "      <td>1.000000</td>\n",
       "      <td>0.932579</td>\n",
       "      <td>0.992243</td>\n",
       "    </tr>\n",
       "    <tr>\n",
       "      <th>tax_per_capita</th>\n",
       "      <td>0.932579</td>\n",
       "      <td>1.000000</td>\n",
       "      <td>0.906181</td>\n",
       "    </tr>\n",
       "    <tr>\n",
       "      <th>mj_tax_revenue</th>\n",
       "      <td>0.992243</td>\n",
       "      <td>0.906181</td>\n",
       "      <td>1.000000</td>\n",
       "    </tr>\n",
       "  </tbody>\n",
       "</table>\n",
       "</div>"
      ],
      "text/plain": [
       "                    year  tax_per_capita  mj_tax_revenue\n",
       "year            1.000000        0.932579        0.992243\n",
       "tax_per_capita  0.932579        1.000000        0.906181\n",
       "mj_tax_revenue  0.992243        0.906181        1.000000"
      ]
     },
     "execution_count": 38,
     "metadata": {},
     "output_type": "execute_result"
    }
   ],
   "source": [
    "co_plot_df2.corr()"
   ]
  },
  {
   "cell_type": "markdown",
   "id": "87e6bd62",
   "metadata": {},
   "source": [
    "#### 1. r: Pearson’s correlation coefficient\n",
    "#### 2. p-value: long-tailed p-value"
   ]
  },
  {
   "cell_type": "code",
   "execution_count": 41,
   "id": "3f35e8c8",
   "metadata": {},
   "outputs": [
    {
     "data": {
      "text/plain": [
       "(0.9061814580672818, 0.0019219203235735177)"
      ]
     },
     "execution_count": 41,
     "metadata": {},
     "output_type": "execute_result"
    }
   ],
   "source": [
    "stats.pearsonr(co_plot_df2['tax_per_capita'], co_plot_df2['mj_tax_revenue'])"
   ]
  },
  {
   "cell_type": "markdown",
   "id": "f4098c8d",
   "metadata": {},
   "source": [
    "## looking at the differences"
   ]
  },
  {
   "cell_type": "code",
   "execution_count": 42,
   "id": "21089fbc",
   "metadata": {},
   "outputs": [],
   "source": [
    "diff_df = co_plot_df2.diff()"
   ]
  },
  {
   "cell_type": "code",
   "execution_count": 45,
   "id": "3fdd6893",
   "metadata": {},
   "outputs": [],
   "source": [
    "diff_df = diff_df.dropna()"
   ]
  },
  {
   "cell_type": "code",
   "execution_count": 47,
   "id": "5f36f7dd",
   "metadata": {},
   "outputs": [
    {
     "data": {
      "text/plain": [
       "<AxesSubplot:xlabel='mj_tax_revenue', ylabel='tax_per_capita'>"
      ]
     },
     "execution_count": 47,
     "metadata": {},
     "output_type": "execute_result"
    },
    {
     "data": {
      "image/png": "[encoded data removed]",
      "text/plain": [
       "<Figure size 432x288 with 1 Axes>"
      ]
     },
     "metadata": {
      "needs_background": "light"
     },
     "output_type": "display_data"
    }
   ],
   "source": [
    "diff_df.plot.scatter(y=\"tax_per_capita\", x=\"mj_tax_revenue\") "
   ]
  },
  {
   "cell_type": "code",
   "execution_count": 46,
   "id": "35371c18",
   "metadata": {},
   "outputs": [
    {
     "data": {
      "text/plain": [
       "(-0.5343669231250675, 0.21659668220329328)"
      ]
     },
     "execution_count": 46,
     "metadata": {},
     "output_type": "execute_result"
    }
   ],
   "source": [
    "stats.pearsonr(diff_df['tax_per_capita'], diff_df['mj_tax_revenue'])"
   ]
  }
 ],
 "metadata": {
  "kernelspec": {
   "display_name": "Python 3 (ipykernel)",
   "language": "python",
   "name": "python3"
  },
  "language_info": {
   "codemirror_mode": {
    "name": "ipython",
    "version": 3
   },
   "file_extension": ".py",
   "mimetype": "text/x-python",
   "name": "python",
   "nbconvert_exporter": "python",
   "pygments_lexer": "ipython3",
   "version": "3.7.13"
  }
 },
 "nbformat": 4,
 "nbformat_minor": 5
}
